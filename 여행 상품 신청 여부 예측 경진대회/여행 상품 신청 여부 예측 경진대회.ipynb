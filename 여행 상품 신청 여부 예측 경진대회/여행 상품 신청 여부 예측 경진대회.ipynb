{
 "cells": [
  {
   "cell_type": "code",
   "execution_count": 1,
   "id": "130bcc78",
   "metadata": {
    "ExecuteTime": {
     "end_time": "2022-08-14T08:17:40.407499Z",
     "start_time": "2022-08-14T08:17:38.109139Z"
    }
   },
   "outputs": [],
   "source": [
    "import pandas as pd\n",
    "import numpy as np"
   ]
  },
  {
   "cell_type": "code",
   "execution_count": 2,
   "id": "b73d68f8",
   "metadata": {
    "ExecuteTime": {
     "end_time": "2022-08-14T08:17:40.449827Z",
     "start_time": "2022-08-14T08:17:40.407499Z"
    }
   },
   "outputs": [],
   "source": [
    "train_data = pd.read_csv('./data/train.csv')"
   ]
  },
  {
   "cell_type": "code",
   "execution_count": 3,
   "id": "740d0c5e",
   "metadata": {
    "ExecuteTime": {
     "end_time": "2022-08-14T08:17:40.510573Z",
     "start_time": "2022-08-14T08:17:40.451806Z"
    }
   },
   "outputs": [
    {
     "data": {
      "text/html": [
       "<div>\n",
       "<style scoped>\n",
       "    .dataframe tbody tr th:only-of-type {\n",
       "        vertical-align: middle;\n",
       "    }\n",
       "\n",
       "    .dataframe tbody tr th {\n",
       "        vertical-align: top;\n",
       "    }\n",
       "\n",
       "    .dataframe thead th {\n",
       "        text-align: right;\n",
       "    }\n",
       "</style>\n",
       "<table border=\"1\" class=\"dataframe\">\n",
       "  <thead>\n",
       "    <tr style=\"text-align: right;\">\n",
       "      <th></th>\n",
       "      <th>id</th>\n",
       "      <th>Age</th>\n",
       "      <th>TypeofContact</th>\n",
       "      <th>CityTier</th>\n",
       "      <th>DurationOfPitch</th>\n",
       "      <th>Occupation</th>\n",
       "      <th>Gender</th>\n",
       "      <th>NumberOfPersonVisiting</th>\n",
       "      <th>NumberOfFollowups</th>\n",
       "      <th>ProductPitched</th>\n",
       "      <th>PreferredPropertyStar</th>\n",
       "      <th>MaritalStatus</th>\n",
       "      <th>NumberOfTrips</th>\n",
       "      <th>Passport</th>\n",
       "      <th>PitchSatisfactionScore</th>\n",
       "      <th>OwnCar</th>\n",
       "      <th>NumberOfChildrenVisiting</th>\n",
       "      <th>Designation</th>\n",
       "      <th>MonthlyIncome</th>\n",
       "      <th>ProdTaken</th>\n",
       "    </tr>\n",
       "  </thead>\n",
       "  <tbody>\n",
       "    <tr>\n",
       "      <th>0</th>\n",
       "      <td>1</td>\n",
       "      <td>28.0</td>\n",
       "      <td>Company Invited</td>\n",
       "      <td>1</td>\n",
       "      <td>10.0</td>\n",
       "      <td>Small Business</td>\n",
       "      <td>Male</td>\n",
       "      <td>3</td>\n",
       "      <td>4.0</td>\n",
       "      <td>Basic</td>\n",
       "      <td>3.0</td>\n",
       "      <td>Married</td>\n",
       "      <td>3.0</td>\n",
       "      <td>0</td>\n",
       "      <td>1</td>\n",
       "      <td>0</td>\n",
       "      <td>1.0</td>\n",
       "      <td>Executive</td>\n",
       "      <td>20384.0</td>\n",
       "      <td>0</td>\n",
       "    </tr>\n",
       "    <tr>\n",
       "      <th>1</th>\n",
       "      <td>2</td>\n",
       "      <td>34.0</td>\n",
       "      <td>Self Enquiry</td>\n",
       "      <td>3</td>\n",
       "      <td>NaN</td>\n",
       "      <td>Small Business</td>\n",
       "      <td>Female</td>\n",
       "      <td>2</td>\n",
       "      <td>4.0</td>\n",
       "      <td>Deluxe</td>\n",
       "      <td>4.0</td>\n",
       "      <td>Single</td>\n",
       "      <td>1.0</td>\n",
       "      <td>1</td>\n",
       "      <td>5</td>\n",
       "      <td>1</td>\n",
       "      <td>0.0</td>\n",
       "      <td>Manager</td>\n",
       "      <td>19599.0</td>\n",
       "      <td>1</td>\n",
       "    </tr>\n",
       "    <tr>\n",
       "      <th>2</th>\n",
       "      <td>3</td>\n",
       "      <td>45.0</td>\n",
       "      <td>Company Invited</td>\n",
       "      <td>1</td>\n",
       "      <td>NaN</td>\n",
       "      <td>Salaried</td>\n",
       "      <td>Male</td>\n",
       "      <td>2</td>\n",
       "      <td>3.0</td>\n",
       "      <td>Deluxe</td>\n",
       "      <td>4.0</td>\n",
       "      <td>Married</td>\n",
       "      <td>2.0</td>\n",
       "      <td>0</td>\n",
       "      <td>4</td>\n",
       "      <td>1</td>\n",
       "      <td>0.0</td>\n",
       "      <td>Manager</td>\n",
       "      <td>NaN</td>\n",
       "      <td>0</td>\n",
       "    </tr>\n",
       "    <tr>\n",
       "      <th>3</th>\n",
       "      <td>4</td>\n",
       "      <td>29.0</td>\n",
       "      <td>Company Invited</td>\n",
       "      <td>1</td>\n",
       "      <td>7.0</td>\n",
       "      <td>Small Business</td>\n",
       "      <td>Male</td>\n",
       "      <td>3</td>\n",
       "      <td>5.0</td>\n",
       "      <td>Basic</td>\n",
       "      <td>4.0</td>\n",
       "      <td>Married</td>\n",
       "      <td>3.0</td>\n",
       "      <td>0</td>\n",
       "      <td>4</td>\n",
       "      <td>0</td>\n",
       "      <td>1.0</td>\n",
       "      <td>Executive</td>\n",
       "      <td>21274.0</td>\n",
       "      <td>1</td>\n",
       "    </tr>\n",
       "    <tr>\n",
       "      <th>4</th>\n",
       "      <td>5</td>\n",
       "      <td>42.0</td>\n",
       "      <td>Self Enquiry</td>\n",
       "      <td>3</td>\n",
       "      <td>6.0</td>\n",
       "      <td>Salaried</td>\n",
       "      <td>Male</td>\n",
       "      <td>2</td>\n",
       "      <td>3.0</td>\n",
       "      <td>Deluxe</td>\n",
       "      <td>3.0</td>\n",
       "      <td>Divorced</td>\n",
       "      <td>2.0</td>\n",
       "      <td>0</td>\n",
       "      <td>3</td>\n",
       "      <td>1</td>\n",
       "      <td>0.0</td>\n",
       "      <td>Manager</td>\n",
       "      <td>19907.0</td>\n",
       "      <td>0</td>\n",
       "    </tr>\n",
       "  </tbody>\n",
       "</table>\n",
       "</div>"
      ],
      "text/plain": [
       "   id   Age    TypeofContact  CityTier  DurationOfPitch      Occupation  \\\n",
       "0   1  28.0  Company Invited         1             10.0  Small Business   \n",
       "1   2  34.0     Self Enquiry         3              NaN  Small Business   \n",
       "2   3  45.0  Company Invited         1              NaN        Salaried   \n",
       "3   4  29.0  Company Invited         1              7.0  Small Business   \n",
       "4   5  42.0     Self Enquiry         3              6.0        Salaried   \n",
       "\n",
       "   Gender  NumberOfPersonVisiting  NumberOfFollowups ProductPitched  \\\n",
       "0    Male                       3                4.0          Basic   \n",
       "1  Female                       2                4.0         Deluxe   \n",
       "2    Male                       2                3.0         Deluxe   \n",
       "3    Male                       3                5.0          Basic   \n",
       "4    Male                       2                3.0         Deluxe   \n",
       "\n",
       "   PreferredPropertyStar MaritalStatus  NumberOfTrips  Passport  \\\n",
       "0                    3.0       Married            3.0         0   \n",
       "1                    4.0        Single            1.0         1   \n",
       "2                    4.0       Married            2.0         0   \n",
       "3                    4.0       Married            3.0         0   \n",
       "4                    3.0      Divorced            2.0         0   \n",
       "\n",
       "   PitchSatisfactionScore  OwnCar  NumberOfChildrenVisiting Designation  \\\n",
       "0                       1       0                       1.0   Executive   \n",
       "1                       5       1                       0.0     Manager   \n",
       "2                       4       1                       0.0     Manager   \n",
       "3                       4       0                       1.0   Executive   \n",
       "4                       3       1                       0.0     Manager   \n",
       "\n",
       "   MonthlyIncome  ProdTaken  \n",
       "0        20384.0          0  \n",
       "1        19599.0          1  \n",
       "2            NaN          0  \n",
       "3        21274.0          1  \n",
       "4        19907.0          0  "
      ]
     },
     "execution_count": 3,
     "metadata": {},
     "output_type": "execute_result"
    }
   ],
   "source": [
    "train_data.head()"
   ]
  },
  {
   "cell_type": "markdown",
   "id": "37f4d46b",
   "metadata": {},
   "source": [
    "- id : 샘플 아이디\n",
    "- Age : 나이\n",
    "- TypeofContact : 고객의 제품 인지 방법 (회사의 홍보 or 스스로 검색)\n",
    "- CityTier : 주거 중인 도시의 등급. (인구, 시설, 생활 수준 기준) (1등급 > 2등급 > 3등급) \n",
    "- DurationOfPitch : 영업 사원이 고객에게 제공하는 프레젠테이션 기간\n",
    "- Occupation : 직업\n",
    "- Gender : 성별\n",
    "- NumberOfPersonVisiting : 고객과 함께 여행을 계획 중인 총 인원\n",
    "- NumberOfFollowups : 영업 사원의 프레젠테이션 후 이루어진 후속 조치 수\n",
    "- ProductPitched : 영업 사원이 제시한 상품\n",
    "- PreferredPropertyStar : 선호 호텔 숙박업소 등급\n",
    "- MaritalStatus : 결혼여부\n",
    "- NumberOfTrips : 평균 연간 여행 횟수\n",
    "- Passport : 여권 보유 여부 (0: 없음, 1: 있음)\n",
    "- PitchSatisfactionScore : 영업 사원의 프레젠테이션 만족도\n",
    "- OwnCar : 자동차 보유 여부 (0: 없음, 1: 있음)\n",
    "- NumberOfChildrenVisiting : 함께 여행을 계획 중인 5세 미만의 어린이 수\n",
    "- Designation : (직업의) 직급\n",
    "- MonthlyIncome : 월 급여\n",
    "- ProdTaken : 여행 패키지 신청 여부 (0: 신청 안 함, 1: 신청함)\n"
   ]
  },
  {
   "cell_type": "markdown",
   "id": "b3716a68",
   "metadata": {},
   "source": [
    "# EDA"
   ]
  },
  {
   "cell_type": "code",
   "execution_count": 4,
   "id": "c263b7a8",
   "metadata": {
    "ExecuteTime": {
     "end_time": "2022-08-14T08:17:45.445417Z",
     "start_time": "2022-08-14T08:17:40.511570Z"
    }
   },
   "outputs": [],
   "source": [
    "import matplotlib.pyplot as plt\n",
    "import matplotlib\n",
    "matplotlib.rcParams['font.family'] = 'Malgun Gothic' # Windows\n",
    "matplotlib.rcParams['font.size'] = 15 # 글자 크기\n",
    "matplotlib.rcParams['axes.unicode_minus'] = False \n",
    "import seaborn as sns\n",
    "import sklearn.preprocessing\n",
    "\n",
    "import warnings\n",
    "warnings.filterwarnings(action='ignore')"
   ]
  },
  {
   "cell_type": "markdown",
   "id": "699ad7b7",
   "metadata": {},
   "source": [
    "- 결측치 확인"
   ]
  },
  {
   "cell_type": "code",
   "execution_count": 5,
   "id": "0fd9997c",
   "metadata": {
    "ExecuteTime": {
     "end_time": "2022-08-14T08:17:47.049416Z",
     "start_time": "2022-08-14T08:17:45.448411Z"
    },
    "scrolled": true
   },
   "outputs": [
    {
     "name": "stdout",
     "output_type": "stream",
     "text": [
      "<class 'pandas.core.frame.DataFrame'>\n",
      "RangeIndex: 1955 entries, 0 to 1954\n",
      "Data columns (total 20 columns):\n",
      " #   Column                    Non-Null Count  Dtype  \n",
      "---  ------                    --------------  -----  \n",
      " 0   id                        1955 non-null   int64  \n",
      " 1   Age                       1861 non-null   float64\n",
      " 2   TypeofContact             1945 non-null   object \n",
      " 3   CityTier                  1955 non-null   int64  \n",
      " 4   DurationOfPitch           1853 non-null   float64\n",
      " 5   Occupation                1955 non-null   object \n",
      " 6   Gender                    1955 non-null   object \n",
      " 7   NumberOfPersonVisiting    1955 non-null   int64  \n",
      " 8   NumberOfFollowups         1942 non-null   float64\n",
      " 9   ProductPitched            1955 non-null   object \n",
      " 10  PreferredPropertyStar     1945 non-null   float64\n",
      " 11  MaritalStatus             1955 non-null   object \n",
      " 12  NumberOfTrips             1898 non-null   float64\n",
      " 13  Passport                  1955 non-null   int64  \n",
      " 14  PitchSatisfactionScore    1955 non-null   int64  \n",
      " 15  OwnCar                    1955 non-null   int64  \n",
      " 16  NumberOfChildrenVisiting  1928 non-null   float64\n",
      " 17  Designation               1955 non-null   object \n",
      " 18  MonthlyIncome             1855 non-null   float64\n",
      " 19  ProdTaken                 1955 non-null   int64  \n",
      "dtypes: float64(7), int64(7), object(6)\n",
      "memory usage: 305.6+ KB\n"
     ]
    }
   ],
   "source": [
    "train_data.info(null_counts=True)"
   ]
  },
  {
   "cell_type": "markdown",
   "id": "32449b5e",
   "metadata": {},
   "source": [
    "- 결측치가 다양하게 발생\n",
    "- 결측치를 함부로 0이나 평균으로 대체할 수 없음"
   ]
  },
  {
   "cell_type": "markdown",
   "id": "a7ae36a7",
   "metadata": {},
   "source": [
    "---\n",
    "- 숫자형은 소수가 없음 -> float64를 int64로 변환해도 됨\n"
   ]
  },
  {
   "cell_type": "markdown",
   "id": "db1a9cb7",
   "metadata": {},
   "source": [
    "- 변환하기 위해 일단 결측치 있는 데이터를 제외함"
   ]
  },
  {
   "cell_type": "code",
   "execution_count": 6,
   "id": "b0aef213",
   "metadata": {
    "ExecuteTime": {
     "end_time": "2022-08-14T08:17:47.065618Z",
     "start_time": "2022-08-14T08:17:47.050413Z"
    }
   },
   "outputs": [],
   "source": [
    "train_data2 = train_data.dropna().reset_index(drop=True)"
   ]
  },
  {
   "cell_type": "code",
   "execution_count": 7,
   "id": "1352b799",
   "metadata": {
    "ExecuteTime": {
     "end_time": "2022-08-14T08:17:47.134701Z",
     "start_time": "2022-08-14T08:17:47.066817Z"
    },
    "scrolled": true
   },
   "outputs": [
    {
     "data": {
      "text/html": [
       "<div>\n",
       "<style scoped>\n",
       "    .dataframe tbody tr th:only-of-type {\n",
       "        vertical-align: middle;\n",
       "    }\n",
       "\n",
       "    .dataframe tbody tr th {\n",
       "        vertical-align: top;\n",
       "    }\n",
       "\n",
       "    .dataframe thead th {\n",
       "        text-align: right;\n",
       "    }\n",
       "</style>\n",
       "<table border=\"1\" class=\"dataframe\">\n",
       "  <thead>\n",
       "    <tr style=\"text-align: right;\">\n",
       "      <th></th>\n",
       "      <th>id</th>\n",
       "      <th>Age</th>\n",
       "      <th>TypeofContact</th>\n",
       "      <th>CityTier</th>\n",
       "      <th>DurationOfPitch</th>\n",
       "      <th>Occupation</th>\n",
       "      <th>Gender</th>\n",
       "      <th>NumberOfPersonVisiting</th>\n",
       "      <th>NumberOfFollowups</th>\n",
       "      <th>ProductPitched</th>\n",
       "      <th>PreferredPropertyStar</th>\n",
       "      <th>MaritalStatus</th>\n",
       "      <th>NumberOfTrips</th>\n",
       "      <th>Passport</th>\n",
       "      <th>PitchSatisfactionScore</th>\n",
       "      <th>OwnCar</th>\n",
       "      <th>NumberOfChildrenVisiting</th>\n",
       "      <th>Designation</th>\n",
       "      <th>MonthlyIncome</th>\n",
       "      <th>ProdTaken</th>\n",
       "    </tr>\n",
       "  </thead>\n",
       "  <tbody>\n",
       "    <tr>\n",
       "      <th>0</th>\n",
       "      <td>1</td>\n",
       "      <td>28</td>\n",
       "      <td>Company Invited</td>\n",
       "      <td>1</td>\n",
       "      <td>10</td>\n",
       "      <td>Small Business</td>\n",
       "      <td>Male</td>\n",
       "      <td>3</td>\n",
       "      <td>4</td>\n",
       "      <td>Basic</td>\n",
       "      <td>3</td>\n",
       "      <td>Married</td>\n",
       "      <td>3</td>\n",
       "      <td>0</td>\n",
       "      <td>1</td>\n",
       "      <td>0</td>\n",
       "      <td>1</td>\n",
       "      <td>Executive</td>\n",
       "      <td>20384</td>\n",
       "      <td>0</td>\n",
       "    </tr>\n",
       "    <tr>\n",
       "      <th>1</th>\n",
       "      <td>4</td>\n",
       "      <td>29</td>\n",
       "      <td>Company Invited</td>\n",
       "      <td>1</td>\n",
       "      <td>7</td>\n",
       "      <td>Small Business</td>\n",
       "      <td>Male</td>\n",
       "      <td>3</td>\n",
       "      <td>5</td>\n",
       "      <td>Basic</td>\n",
       "      <td>4</td>\n",
       "      <td>Married</td>\n",
       "      <td>3</td>\n",
       "      <td>0</td>\n",
       "      <td>4</td>\n",
       "      <td>0</td>\n",
       "      <td>1</td>\n",
       "      <td>Executive</td>\n",
       "      <td>21274</td>\n",
       "      <td>1</td>\n",
       "    </tr>\n",
       "    <tr>\n",
       "      <th>2</th>\n",
       "      <td>5</td>\n",
       "      <td>42</td>\n",
       "      <td>Self Enquiry</td>\n",
       "      <td>3</td>\n",
       "      <td>6</td>\n",
       "      <td>Salaried</td>\n",
       "      <td>Male</td>\n",
       "      <td>2</td>\n",
       "      <td>3</td>\n",
       "      <td>Deluxe</td>\n",
       "      <td>3</td>\n",
       "      <td>Divorced</td>\n",
       "      <td>2</td>\n",
       "      <td>0</td>\n",
       "      <td>3</td>\n",
       "      <td>1</td>\n",
       "      <td>0</td>\n",
       "      <td>Manager</td>\n",
       "      <td>19907</td>\n",
       "      <td>0</td>\n",
       "    </tr>\n",
       "    <tr>\n",
       "      <th>3</th>\n",
       "      <td>6</td>\n",
       "      <td>32</td>\n",
       "      <td>Self Enquiry</td>\n",
       "      <td>1</td>\n",
       "      <td>29</td>\n",
       "      <td>Small Business</td>\n",
       "      <td>Male</td>\n",
       "      <td>4</td>\n",
       "      <td>4</td>\n",
       "      <td>Deluxe</td>\n",
       "      <td>3</td>\n",
       "      <td>Divorced</td>\n",
       "      <td>3</td>\n",
       "      <td>1</td>\n",
       "      <td>5</td>\n",
       "      <td>1</td>\n",
       "      <td>1</td>\n",
       "      <td>Manager</td>\n",
       "      <td>24857</td>\n",
       "      <td>1</td>\n",
       "    </tr>\n",
       "    <tr>\n",
       "      <th>4</th>\n",
       "      <td>7</td>\n",
       "      <td>43</td>\n",
       "      <td>Company Invited</td>\n",
       "      <td>3</td>\n",
       "      <td>8</td>\n",
       "      <td>Salaried</td>\n",
       "      <td>Male</td>\n",
       "      <td>3</td>\n",
       "      <td>3</td>\n",
       "      <td>Deluxe</td>\n",
       "      <td>3</td>\n",
       "      <td>Married</td>\n",
       "      <td>2</td>\n",
       "      <td>0</td>\n",
       "      <td>3</td>\n",
       "      <td>1</td>\n",
       "      <td>2</td>\n",
       "      <td>Manager</td>\n",
       "      <td>20675</td>\n",
       "      <td>0</td>\n",
       "    </tr>\n",
       "    <tr>\n",
       "      <th>...</th>\n",
       "      <td>...</td>\n",
       "      <td>...</td>\n",
       "      <td>...</td>\n",
       "      <td>...</td>\n",
       "      <td>...</td>\n",
       "      <td>...</td>\n",
       "      <td>...</td>\n",
       "      <td>...</td>\n",
       "      <td>...</td>\n",
       "      <td>...</td>\n",
       "      <td>...</td>\n",
       "      <td>...</td>\n",
       "      <td>...</td>\n",
       "      <td>...</td>\n",
       "      <td>...</td>\n",
       "      <td>...</td>\n",
       "      <td>...</td>\n",
       "      <td>...</td>\n",
       "      <td>...</td>\n",
       "      <td>...</td>\n",
       "    </tr>\n",
       "    <tr>\n",
       "      <th>1644</th>\n",
       "      <td>1951</td>\n",
       "      <td>28</td>\n",
       "      <td>Self Enquiry</td>\n",
       "      <td>1</td>\n",
       "      <td>10</td>\n",
       "      <td>Small Business</td>\n",
       "      <td>Male</td>\n",
       "      <td>3</td>\n",
       "      <td>5</td>\n",
       "      <td>Basic</td>\n",
       "      <td>3</td>\n",
       "      <td>Single</td>\n",
       "      <td>2</td>\n",
       "      <td>0</td>\n",
       "      <td>1</td>\n",
       "      <td>1</td>\n",
       "      <td>2</td>\n",
       "      <td>Executive</td>\n",
       "      <td>20723</td>\n",
       "      <td>0</td>\n",
       "    </tr>\n",
       "    <tr>\n",
       "      <th>1645</th>\n",
       "      <td>1952</td>\n",
       "      <td>41</td>\n",
       "      <td>Self Enquiry</td>\n",
       "      <td>3</td>\n",
       "      <td>8</td>\n",
       "      <td>Salaried</td>\n",
       "      <td>Female</td>\n",
       "      <td>3</td>\n",
       "      <td>3</td>\n",
       "      <td>Super Deluxe</td>\n",
       "      <td>5</td>\n",
       "      <td>Divorced</td>\n",
       "      <td>1</td>\n",
       "      <td>0</td>\n",
       "      <td>5</td>\n",
       "      <td>1</td>\n",
       "      <td>1</td>\n",
       "      <td>AVP</td>\n",
       "      <td>31595</td>\n",
       "      <td>0</td>\n",
       "    </tr>\n",
       "    <tr>\n",
       "      <th>1646</th>\n",
       "      <td>1953</td>\n",
       "      <td>38</td>\n",
       "      <td>Company Invited</td>\n",
       "      <td>3</td>\n",
       "      <td>28</td>\n",
       "      <td>Small Business</td>\n",
       "      <td>Female</td>\n",
       "      <td>3</td>\n",
       "      <td>4</td>\n",
       "      <td>Basic</td>\n",
       "      <td>3</td>\n",
       "      <td>Divorced</td>\n",
       "      <td>7</td>\n",
       "      <td>0</td>\n",
       "      <td>2</td>\n",
       "      <td>1</td>\n",
       "      <td>2</td>\n",
       "      <td>Executive</td>\n",
       "      <td>21651</td>\n",
       "      <td>0</td>\n",
       "    </tr>\n",
       "    <tr>\n",
       "      <th>1647</th>\n",
       "      <td>1954</td>\n",
       "      <td>28</td>\n",
       "      <td>Self Enquiry</td>\n",
       "      <td>3</td>\n",
       "      <td>30</td>\n",
       "      <td>Small Business</td>\n",
       "      <td>Female</td>\n",
       "      <td>3</td>\n",
       "      <td>5</td>\n",
       "      <td>Deluxe</td>\n",
       "      <td>3</td>\n",
       "      <td>Married</td>\n",
       "      <td>3</td>\n",
       "      <td>0</td>\n",
       "      <td>1</td>\n",
       "      <td>1</td>\n",
       "      <td>2</td>\n",
       "      <td>Manager</td>\n",
       "      <td>22218</td>\n",
       "      <td>0</td>\n",
       "    </tr>\n",
       "    <tr>\n",
       "      <th>1648</th>\n",
       "      <td>1955</td>\n",
       "      <td>22</td>\n",
       "      <td>Company Invited</td>\n",
       "      <td>1</td>\n",
       "      <td>9</td>\n",
       "      <td>Salaried</td>\n",
       "      <td>Male</td>\n",
       "      <td>2</td>\n",
       "      <td>4</td>\n",
       "      <td>Basic</td>\n",
       "      <td>3</td>\n",
       "      <td>Divorced</td>\n",
       "      <td>1</td>\n",
       "      <td>1</td>\n",
       "      <td>3</td>\n",
       "      <td>0</td>\n",
       "      <td>0</td>\n",
       "      <td>Executive</td>\n",
       "      <td>17853</td>\n",
       "      <td>1</td>\n",
       "    </tr>\n",
       "  </tbody>\n",
       "</table>\n",
       "<p>1649 rows × 20 columns</p>\n",
       "</div>"
      ],
      "text/plain": [
       "        id  Age    TypeofContact  CityTier  DurationOfPitch      Occupation  \\\n",
       "0        1   28  Company Invited         1               10  Small Business   \n",
       "1        4   29  Company Invited         1                7  Small Business   \n",
       "2        5   42     Self Enquiry         3                6        Salaried   \n",
       "3        6   32     Self Enquiry         1               29  Small Business   \n",
       "4        7   43  Company Invited         3                8        Salaried   \n",
       "...    ...  ...              ...       ...              ...             ...   \n",
       "1644  1951   28     Self Enquiry         1               10  Small Business   \n",
       "1645  1952   41     Self Enquiry         3                8        Salaried   \n",
       "1646  1953   38  Company Invited         3               28  Small Business   \n",
       "1647  1954   28     Self Enquiry         3               30  Small Business   \n",
       "1648  1955   22  Company Invited         1                9        Salaried   \n",
       "\n",
       "      Gender  NumberOfPersonVisiting  NumberOfFollowups ProductPitched  \\\n",
       "0       Male                       3                  4          Basic   \n",
       "1       Male                       3                  5          Basic   \n",
       "2       Male                       2                  3         Deluxe   \n",
       "3       Male                       4                  4         Deluxe   \n",
       "4       Male                       3                  3         Deluxe   \n",
       "...      ...                     ...                ...            ...   \n",
       "1644    Male                       3                  5          Basic   \n",
       "1645  Female                       3                  3   Super Deluxe   \n",
       "1646  Female                       3                  4          Basic   \n",
       "1647  Female                       3                  5         Deluxe   \n",
       "1648    Male                       2                  4          Basic   \n",
       "\n",
       "      PreferredPropertyStar MaritalStatus  NumberOfTrips  Passport  \\\n",
       "0                         3       Married              3         0   \n",
       "1                         4       Married              3         0   \n",
       "2                         3      Divorced              2         0   \n",
       "3                         3      Divorced              3         1   \n",
       "4                         3       Married              2         0   \n",
       "...                     ...           ...            ...       ...   \n",
       "1644                      3        Single              2         0   \n",
       "1645                      5      Divorced              1         0   \n",
       "1646                      3      Divorced              7         0   \n",
       "1647                      3       Married              3         0   \n",
       "1648                      3      Divorced              1         1   \n",
       "\n",
       "      PitchSatisfactionScore  OwnCar  NumberOfChildrenVisiting Designation  \\\n",
       "0                          1       0                         1   Executive   \n",
       "1                          4       0                         1   Executive   \n",
       "2                          3       1                         0     Manager   \n",
       "3                          5       1                         1     Manager   \n",
       "4                          3       1                         2     Manager   \n",
       "...                      ...     ...                       ...         ...   \n",
       "1644                       1       1                         2   Executive   \n",
       "1645                       5       1                         1         AVP   \n",
       "1646                       2       1                         2   Executive   \n",
       "1647                       1       1                         2     Manager   \n",
       "1648                       3       0                         0   Executive   \n",
       "\n",
       "      MonthlyIncome  ProdTaken  \n",
       "0             20384          0  \n",
       "1             21274          1  \n",
       "2             19907          0  \n",
       "3             24857          1  \n",
       "4             20675          0  \n",
       "...             ...        ...  \n",
       "1644          20723          0  \n",
       "1645          31595          0  \n",
       "1646          21651          0  \n",
       "1647          22218          0  \n",
       "1648          17853          1  \n",
       "\n",
       "[1649 rows x 20 columns]"
      ]
     },
     "execution_count": 7,
     "metadata": {},
     "output_type": "execute_result"
    }
   ],
   "source": [
    "# float64인 Age, DurationOfPitch, NumberOfFollowups\n",
    "# PreferredPropertyStar, NumberOfTrips, NumberOfChildrenVisiting, MonthlyIncome\n",
    "# 을 int64형으로 변환\n",
    "train_data2 = train_data2.astype({'Age':'int32'})\n",
    "train_data2 = train_data2.astype({'DurationOfPitch':'int32'})\n",
    "train_data2 = train_data2.astype({'NumberOfFollowups':'int32'})\n",
    "train_data2 = train_data2.astype({'PreferredPropertyStar':'int32'})\n",
    "train_data2 = train_data2.astype({'NumberOfTrips':'int32'})\n",
    "train_data2 = train_data2.astype({'NumberOfChildrenVisiting':'int32'})\n",
    "train_data2 = train_data2.astype({'MonthlyIncome':'int32'})\n",
    "train_data2"
   ]
  },
  {
   "cell_type": "code",
   "execution_count": 8,
   "id": "eaf020c6",
   "metadata": {
    "ExecuteTime": {
     "end_time": "2022-08-14T08:17:47.142886Z",
     "start_time": "2022-08-14T08:17:47.135699Z"
    }
   },
   "outputs": [
    {
     "data": {
      "text/plain": [
       "array(['Company Invited', 'Self Enquiry'], dtype=object)"
      ]
     },
     "execution_count": 8,
     "metadata": {},
     "output_type": "execute_result"
    }
   ],
   "source": [
    "# object형인 TypeofContact, Occupation, Gender, ProductPitched, MaritalStatus, Designation\n",
    "# TypeofContact는 2개\n",
    "train_data2['TypeofContact'].unique()"
   ]
  },
  {
   "cell_type": "code",
   "execution_count": 9,
   "id": "ba2e6469",
   "metadata": {
    "ExecuteTime": {
     "end_time": "2022-08-14T08:17:47.151313Z",
     "start_time": "2022-08-14T08:17:47.144179Z"
    }
   },
   "outputs": [
    {
     "data": {
      "text/plain": [
       "array(['Small Business', 'Salaried', 'Large Business', 'Free Lancer'],\n",
       "      dtype=object)"
      ]
     },
     "execution_count": 9,
     "metadata": {},
     "output_type": "execute_result"
    }
   ],
   "source": [
    "# Occupation은 4개\n",
    "train_data2['Occupation'].unique()"
   ]
  },
  {
   "cell_type": "code",
   "execution_count": 10,
   "id": "ba947bcb",
   "metadata": {
    "ExecuteTime": {
     "end_time": "2022-08-14T08:17:47.167745Z",
     "start_time": "2022-08-14T08:17:47.155302Z"
    }
   },
   "outputs": [
    {
     "data": {
      "text/plain": [
       "array(['Male', 'Fe Male', 'Female'], dtype=object)"
      ]
     },
     "execution_count": 10,
     "metadata": {},
     "output_type": "execute_result"
    }
   ],
   "source": [
    "# 성별 3개\n",
    "# Fe Male은 오타인가? 분석할 필요성이 있어보임\n",
    "train_data2['Gender'].unique()"
   ]
  },
  {
   "cell_type": "code",
   "execution_count": 11,
   "id": "e423e07d",
   "metadata": {
    "ExecuteTime": {
     "end_time": "2022-08-14T08:17:47.176090Z",
     "start_time": "2022-08-14T08:17:47.169740Z"
    }
   },
   "outputs": [
    {
     "data": {
      "text/plain": [
       "array(['Basic', 'Deluxe', 'Standard', 'Super Deluxe', 'King'],\n",
       "      dtype=object)"
      ]
     },
     "execution_count": 11,
     "metadata": {},
     "output_type": "execute_result"
    }
   ],
   "source": [
    "# ProductPitched는 5개\n",
    "train_data2['ProductPitched'].unique()"
   ]
  },
  {
   "cell_type": "code",
   "execution_count": 12,
   "id": "e4c878a9",
   "metadata": {
    "ExecuteTime": {
     "end_time": "2022-08-14T08:17:47.185282Z",
     "start_time": "2022-08-14T08:17:47.177719Z"
    }
   },
   "outputs": [
    {
     "data": {
      "text/plain": [
       "array(['Married', 'Divorced', 'Unmarried', 'Single'], dtype=object)"
      ]
     },
     "execution_count": 12,
     "metadata": {},
     "output_type": "execute_result"
    }
   ],
   "source": [
    "# MaritalStatus는 4개\n",
    "train_data2['MaritalStatus'].unique()"
   ]
  },
  {
   "cell_type": "code",
   "execution_count": 13,
   "id": "1e851c99",
   "metadata": {
    "ExecuteTime": {
     "end_time": "2022-08-14T08:17:47.193276Z",
     "start_time": "2022-08-14T08:17:47.186280Z"
    }
   },
   "outputs": [
    {
     "data": {
      "text/plain": [
       "array(['Executive', 'Manager', 'Senior Manager', 'AVP', 'VP'],\n",
       "      dtype=object)"
      ]
     },
     "execution_count": 13,
     "metadata": {},
     "output_type": "execute_result"
    }
   ],
   "source": [
    "# Designation은 5개\n",
    "train_data2['Designation'].unique()"
   ]
  },
  {
   "cell_type": "code",
   "execution_count": 14,
   "id": "6d43ffa6",
   "metadata": {
    "ExecuteTime": {
     "end_time": "2022-08-14T08:17:47.224026Z",
     "start_time": "2022-08-14T08:17:47.194954Z"
    }
   },
   "outputs": [
    {
     "data": {
      "text/html": [
       "<div>\n",
       "<style scoped>\n",
       "    .dataframe tbody tr th:only-of-type {\n",
       "        vertical-align: middle;\n",
       "    }\n",
       "\n",
       "    .dataframe tbody tr th {\n",
       "        vertical-align: top;\n",
       "    }\n",
       "\n",
       "    .dataframe thead th {\n",
       "        text-align: right;\n",
       "    }\n",
       "</style>\n",
       "<table border=\"1\" class=\"dataframe\">\n",
       "  <thead>\n",
       "    <tr style=\"text-align: right;\">\n",
       "      <th></th>\n",
       "      <th>id</th>\n",
       "      <th>Age</th>\n",
       "      <th>TypeofContact</th>\n",
       "      <th>CityTier</th>\n",
       "      <th>DurationOfPitch</th>\n",
       "      <th>Occupation</th>\n",
       "      <th>Gender</th>\n",
       "      <th>NumberOfPersonVisiting</th>\n",
       "      <th>NumberOfFollowups</th>\n",
       "      <th>ProductPitched</th>\n",
       "      <th>PreferredPropertyStar</th>\n",
       "      <th>MaritalStatus</th>\n",
       "      <th>NumberOfTrips</th>\n",
       "      <th>Passport</th>\n",
       "      <th>PitchSatisfactionScore</th>\n",
       "      <th>OwnCar</th>\n",
       "      <th>NumberOfChildrenVisiting</th>\n",
       "      <th>Designation</th>\n",
       "      <th>MonthlyIncome</th>\n",
       "      <th>ProdTaken</th>\n",
       "    </tr>\n",
       "  </thead>\n",
       "  <tbody>\n",
       "    <tr>\n",
       "      <th>0</th>\n",
       "      <td>1</td>\n",
       "      <td>28</td>\n",
       "      <td>0</td>\n",
       "      <td>1</td>\n",
       "      <td>10</td>\n",
       "      <td>3</td>\n",
       "      <td>2</td>\n",
       "      <td>3</td>\n",
       "      <td>4</td>\n",
       "      <td>0</td>\n",
       "      <td>3</td>\n",
       "      <td>1</td>\n",
       "      <td>3</td>\n",
       "      <td>0</td>\n",
       "      <td>1</td>\n",
       "      <td>0</td>\n",
       "      <td>1</td>\n",
       "      <td>1</td>\n",
       "      <td>20384</td>\n",
       "      <td>0</td>\n",
       "    </tr>\n",
       "    <tr>\n",
       "      <th>1</th>\n",
       "      <td>4</td>\n",
       "      <td>29</td>\n",
       "      <td>0</td>\n",
       "      <td>1</td>\n",
       "      <td>7</td>\n",
       "      <td>3</td>\n",
       "      <td>2</td>\n",
       "      <td>3</td>\n",
       "      <td>5</td>\n",
       "      <td>0</td>\n",
       "      <td>4</td>\n",
       "      <td>1</td>\n",
       "      <td>3</td>\n",
       "      <td>0</td>\n",
       "      <td>4</td>\n",
       "      <td>0</td>\n",
       "      <td>1</td>\n",
       "      <td>1</td>\n",
       "      <td>21274</td>\n",
       "      <td>1</td>\n",
       "    </tr>\n",
       "    <tr>\n",
       "      <th>2</th>\n",
       "      <td>5</td>\n",
       "      <td>42</td>\n",
       "      <td>1</td>\n",
       "      <td>3</td>\n",
       "      <td>6</td>\n",
       "      <td>2</td>\n",
       "      <td>2</td>\n",
       "      <td>2</td>\n",
       "      <td>3</td>\n",
       "      <td>1</td>\n",
       "      <td>3</td>\n",
       "      <td>0</td>\n",
       "      <td>2</td>\n",
       "      <td>0</td>\n",
       "      <td>3</td>\n",
       "      <td>1</td>\n",
       "      <td>0</td>\n",
       "      <td>2</td>\n",
       "      <td>19907</td>\n",
       "      <td>0</td>\n",
       "    </tr>\n",
       "    <tr>\n",
       "      <th>3</th>\n",
       "      <td>6</td>\n",
       "      <td>32</td>\n",
       "      <td>1</td>\n",
       "      <td>1</td>\n",
       "      <td>29</td>\n",
       "      <td>3</td>\n",
       "      <td>2</td>\n",
       "      <td>4</td>\n",
       "      <td>4</td>\n",
       "      <td>1</td>\n",
       "      <td>3</td>\n",
       "      <td>0</td>\n",
       "      <td>3</td>\n",
       "      <td>1</td>\n",
       "      <td>5</td>\n",
       "      <td>1</td>\n",
       "      <td>1</td>\n",
       "      <td>2</td>\n",
       "      <td>24857</td>\n",
       "      <td>1</td>\n",
       "    </tr>\n",
       "    <tr>\n",
       "      <th>4</th>\n",
       "      <td>7</td>\n",
       "      <td>43</td>\n",
       "      <td>0</td>\n",
       "      <td>3</td>\n",
       "      <td>8</td>\n",
       "      <td>2</td>\n",
       "      <td>2</td>\n",
       "      <td>3</td>\n",
       "      <td>3</td>\n",
       "      <td>1</td>\n",
       "      <td>3</td>\n",
       "      <td>1</td>\n",
       "      <td>2</td>\n",
       "      <td>0</td>\n",
       "      <td>3</td>\n",
       "      <td>1</td>\n",
       "      <td>2</td>\n",
       "      <td>2</td>\n",
       "      <td>20675</td>\n",
       "      <td>0</td>\n",
       "    </tr>\n",
       "    <tr>\n",
       "      <th>...</th>\n",
       "      <td>...</td>\n",
       "      <td>...</td>\n",
       "      <td>...</td>\n",
       "      <td>...</td>\n",
       "      <td>...</td>\n",
       "      <td>...</td>\n",
       "      <td>...</td>\n",
       "      <td>...</td>\n",
       "      <td>...</td>\n",
       "      <td>...</td>\n",
       "      <td>...</td>\n",
       "      <td>...</td>\n",
       "      <td>...</td>\n",
       "      <td>...</td>\n",
       "      <td>...</td>\n",
       "      <td>...</td>\n",
       "      <td>...</td>\n",
       "      <td>...</td>\n",
       "      <td>...</td>\n",
       "      <td>...</td>\n",
       "    </tr>\n",
       "    <tr>\n",
       "      <th>1644</th>\n",
       "      <td>1951</td>\n",
       "      <td>28</td>\n",
       "      <td>1</td>\n",
       "      <td>1</td>\n",
       "      <td>10</td>\n",
       "      <td>3</td>\n",
       "      <td>2</td>\n",
       "      <td>3</td>\n",
       "      <td>5</td>\n",
       "      <td>0</td>\n",
       "      <td>3</td>\n",
       "      <td>2</td>\n",
       "      <td>2</td>\n",
       "      <td>0</td>\n",
       "      <td>1</td>\n",
       "      <td>1</td>\n",
       "      <td>2</td>\n",
       "      <td>1</td>\n",
       "      <td>20723</td>\n",
       "      <td>0</td>\n",
       "    </tr>\n",
       "    <tr>\n",
       "      <th>1645</th>\n",
       "      <td>1952</td>\n",
       "      <td>41</td>\n",
       "      <td>1</td>\n",
       "      <td>3</td>\n",
       "      <td>8</td>\n",
       "      <td>2</td>\n",
       "      <td>1</td>\n",
       "      <td>3</td>\n",
       "      <td>3</td>\n",
       "      <td>4</td>\n",
       "      <td>5</td>\n",
       "      <td>0</td>\n",
       "      <td>1</td>\n",
       "      <td>0</td>\n",
       "      <td>5</td>\n",
       "      <td>1</td>\n",
       "      <td>1</td>\n",
       "      <td>0</td>\n",
       "      <td>31595</td>\n",
       "      <td>0</td>\n",
       "    </tr>\n",
       "    <tr>\n",
       "      <th>1646</th>\n",
       "      <td>1953</td>\n",
       "      <td>38</td>\n",
       "      <td>0</td>\n",
       "      <td>3</td>\n",
       "      <td>28</td>\n",
       "      <td>3</td>\n",
       "      <td>1</td>\n",
       "      <td>3</td>\n",
       "      <td>4</td>\n",
       "      <td>0</td>\n",
       "      <td>3</td>\n",
       "      <td>0</td>\n",
       "      <td>7</td>\n",
       "      <td>0</td>\n",
       "      <td>2</td>\n",
       "      <td>1</td>\n",
       "      <td>2</td>\n",
       "      <td>1</td>\n",
       "      <td>21651</td>\n",
       "      <td>0</td>\n",
       "    </tr>\n",
       "    <tr>\n",
       "      <th>1647</th>\n",
       "      <td>1954</td>\n",
       "      <td>28</td>\n",
       "      <td>1</td>\n",
       "      <td>3</td>\n",
       "      <td>30</td>\n",
       "      <td>3</td>\n",
       "      <td>1</td>\n",
       "      <td>3</td>\n",
       "      <td>5</td>\n",
       "      <td>1</td>\n",
       "      <td>3</td>\n",
       "      <td>1</td>\n",
       "      <td>3</td>\n",
       "      <td>0</td>\n",
       "      <td>1</td>\n",
       "      <td>1</td>\n",
       "      <td>2</td>\n",
       "      <td>2</td>\n",
       "      <td>22218</td>\n",
       "      <td>0</td>\n",
       "    </tr>\n",
       "    <tr>\n",
       "      <th>1648</th>\n",
       "      <td>1955</td>\n",
       "      <td>22</td>\n",
       "      <td>0</td>\n",
       "      <td>1</td>\n",
       "      <td>9</td>\n",
       "      <td>2</td>\n",
       "      <td>2</td>\n",
       "      <td>2</td>\n",
       "      <td>4</td>\n",
       "      <td>0</td>\n",
       "      <td>3</td>\n",
       "      <td>0</td>\n",
       "      <td>1</td>\n",
       "      <td>1</td>\n",
       "      <td>3</td>\n",
       "      <td>0</td>\n",
       "      <td>0</td>\n",
       "      <td>1</td>\n",
       "      <td>17853</td>\n",
       "      <td>1</td>\n",
       "    </tr>\n",
       "  </tbody>\n",
       "</table>\n",
       "<p>1649 rows × 20 columns</p>\n",
       "</div>"
      ],
      "text/plain": [
       "        id  Age  TypeofContact  CityTier  DurationOfPitch  Occupation  Gender  \\\n",
       "0        1   28              0         1               10           3       2   \n",
       "1        4   29              0         1                7           3       2   \n",
       "2        5   42              1         3                6           2       2   \n",
       "3        6   32              1         1               29           3       2   \n",
       "4        7   43              0         3                8           2       2   \n",
       "...    ...  ...            ...       ...              ...         ...     ...   \n",
       "1644  1951   28              1         1               10           3       2   \n",
       "1645  1952   41              1         3                8           2       1   \n",
       "1646  1953   38              0         3               28           3       1   \n",
       "1647  1954   28              1         3               30           3       1   \n",
       "1648  1955   22              0         1                9           2       2   \n",
       "\n",
       "      NumberOfPersonVisiting  NumberOfFollowups  ProductPitched  \\\n",
       "0                          3                  4               0   \n",
       "1                          3                  5               0   \n",
       "2                          2                  3               1   \n",
       "3                          4                  4               1   \n",
       "4                          3                  3               1   \n",
       "...                      ...                ...             ...   \n",
       "1644                       3                  5               0   \n",
       "1645                       3                  3               4   \n",
       "1646                       3                  4               0   \n",
       "1647                       3                  5               1   \n",
       "1648                       2                  4               0   \n",
       "\n",
       "      PreferredPropertyStar  MaritalStatus  NumberOfTrips  Passport  \\\n",
       "0                         3              1              3         0   \n",
       "1                         4              1              3         0   \n",
       "2                         3              0              2         0   \n",
       "3                         3              0              3         1   \n",
       "4                         3              1              2         0   \n",
       "...                     ...            ...            ...       ...   \n",
       "1644                      3              2              2         0   \n",
       "1645                      5              0              1         0   \n",
       "1646                      3              0              7         0   \n",
       "1647                      3              1              3         0   \n",
       "1648                      3              0              1         1   \n",
       "\n",
       "      PitchSatisfactionScore  OwnCar  NumberOfChildrenVisiting  Designation  \\\n",
       "0                          1       0                         1            1   \n",
       "1                          4       0                         1            1   \n",
       "2                          3       1                         0            2   \n",
       "3                          5       1                         1            2   \n",
       "4                          3       1                         2            2   \n",
       "...                      ...     ...                       ...          ...   \n",
       "1644                       1       1                         2            1   \n",
       "1645                       5       1                         1            0   \n",
       "1646                       2       1                         2            1   \n",
       "1647                       1       1                         2            2   \n",
       "1648                       3       0                         0            1   \n",
       "\n",
       "      MonthlyIncome  ProdTaken  \n",
       "0             20384          0  \n",
       "1             21274          1  \n",
       "2             19907          0  \n",
       "3             24857          1  \n",
       "4             20675          0  \n",
       "...             ...        ...  \n",
       "1644          20723          0  \n",
       "1645          31595          0  \n",
       "1646          21651          0  \n",
       "1647          22218          0  \n",
       "1648          17853          1  \n",
       "\n",
       "[1649 rows x 20 columns]"
      ]
     },
     "execution_count": 14,
     "metadata": {},
     "output_type": "execute_result"
    }
   ],
   "source": [
    "# sklearn에서 제공하는 label encoder로 object형을 int형으로 labeling\n",
    "from sklearn import preprocessing\n",
    "label_encoder = preprocessing.LabelEncoder()\n",
    "train_data2['TypeofContact']=label_encoder.fit_transform(train_data2['TypeofContact'])\n",
    "train_data2['Occupation']=label_encoder.fit_transform(train_data2['Occupation'])\n",
    "train_data2['Gender']=label_encoder.fit_transform(train_data2['Gender'])\n",
    "train_data2['ProductPitched']=label_encoder.fit_transform(train_data2['ProductPitched'])\n",
    "train_data2['MaritalStatus']=label_encoder.fit_transform(train_data2['MaritalStatus'])\n",
    "train_data2['Designation']=label_encoder.fit_transform(train_data2['Designation'])\n",
    "train_data2"
   ]
  },
  {
   "cell_type": "code",
   "execution_count": 15,
   "id": "bac51c57",
   "metadata": {
    "ExecuteTime": {
     "end_time": "2022-08-14T08:17:47.240943Z",
     "start_time": "2022-08-14T08:17:47.226023Z"
    }
   },
   "outputs": [
    {
     "data": {
      "text/plain": [
       "array([0, 1])"
      ]
     },
     "execution_count": 15,
     "metadata": {},
     "output_type": "execute_result"
    }
   ],
   "source": [
    "train_data2['TypeofContact'].unique()"
   ]
  },
  {
   "cell_type": "code",
   "execution_count": 16,
   "id": "9c918110",
   "metadata": {
    "ExecuteTime": {
     "end_time": "2022-08-14T08:17:47.249300Z",
     "start_time": "2022-08-14T08:17:47.242683Z"
    }
   },
   "outputs": [
    {
     "data": {
      "text/plain": [
       "array([3, 2, 1, 0])"
      ]
     },
     "execution_count": 16,
     "metadata": {},
     "output_type": "execute_result"
    }
   ],
   "source": [
    "train_data2['Occupation'].unique()"
   ]
  },
  {
   "cell_type": "code",
   "execution_count": 17,
   "id": "fb182362",
   "metadata": {
    "ExecuteTime": {
     "end_time": "2022-08-14T08:17:47.265532Z",
     "start_time": "2022-08-14T08:17:47.251008Z"
    }
   },
   "outputs": [
    {
     "data": {
      "text/plain": [
       "array([2, 0, 1])"
      ]
     },
     "execution_count": 17,
     "metadata": {},
     "output_type": "execute_result"
    }
   ],
   "source": [
    "train_data2['Gender'].unique()"
   ]
  },
  {
   "cell_type": "code",
   "execution_count": 18,
   "id": "6d0c5de6",
   "metadata": {
    "ExecuteTime": {
     "end_time": "2022-08-14T08:17:47.281313Z",
     "start_time": "2022-08-14T08:17:47.267417Z"
    }
   },
   "outputs": [
    {
     "data": {
      "text/plain": [
       "array([0, 1, 3, 4, 2])"
      ]
     },
     "execution_count": 18,
     "metadata": {},
     "output_type": "execute_result"
    }
   ],
   "source": [
    "train_data2['ProductPitched'].unique()"
   ]
  },
  {
   "cell_type": "code",
   "execution_count": 19,
   "id": "ea6b7376",
   "metadata": {
    "ExecuteTime": {
     "end_time": "2022-08-14T08:17:47.296904Z",
     "start_time": "2022-08-14T08:17:47.283082Z"
    }
   },
   "outputs": [
    {
     "data": {
      "text/plain": [
       "array([1, 0, 3, 2])"
      ]
     },
     "execution_count": 19,
     "metadata": {},
     "output_type": "execute_result"
    }
   ],
   "source": [
    "train_data2['MaritalStatus'].unique()"
   ]
  },
  {
   "cell_type": "code",
   "execution_count": 20,
   "id": "8fcd59af",
   "metadata": {
    "ExecuteTime": {
     "end_time": "2022-08-14T08:17:47.304615Z",
     "start_time": "2022-08-14T08:17:47.297901Z"
    }
   },
   "outputs": [
    {
     "data": {
      "text/plain": [
       "array([1, 2, 3, 0, 4])"
      ]
     },
     "execution_count": 20,
     "metadata": {},
     "output_type": "execute_result"
    }
   ],
   "source": [
    "train_data2['Designation'].unique()"
   ]
  },
  {
   "cell_type": "code",
   "execution_count": 21,
   "id": "3e8e5f5a",
   "metadata": {
    "ExecuteTime": {
     "end_time": "2022-08-14T08:17:47.321016Z",
     "start_time": "2022-08-14T08:17:47.306807Z"
    },
    "scrolled": true
   },
   "outputs": [
    {
     "name": "stdout",
     "output_type": "stream",
     "text": [
      "<class 'pandas.core.frame.DataFrame'>\n",
      "RangeIndex: 1649 entries, 0 to 1648\n",
      "Data columns (total 20 columns):\n",
      " #   Column                    Non-Null Count  Dtype\n",
      "---  ------                    --------------  -----\n",
      " 0   id                        1649 non-null   int64\n",
      " 1   Age                       1649 non-null   int32\n",
      " 2   TypeofContact             1649 non-null   int32\n",
      " 3   CityTier                  1649 non-null   int64\n",
      " 4   DurationOfPitch           1649 non-null   int32\n",
      " 5   Occupation                1649 non-null   int32\n",
      " 6   Gender                    1649 non-null   int32\n",
      " 7   NumberOfPersonVisiting    1649 non-null   int64\n",
      " 8   NumberOfFollowups         1649 non-null   int32\n",
      " 9   ProductPitched            1649 non-null   int32\n",
      " 10  PreferredPropertyStar     1649 non-null   int32\n",
      " 11  MaritalStatus             1649 non-null   int32\n",
      " 12  NumberOfTrips             1649 non-null   int32\n",
      " 13  Passport                  1649 non-null   int64\n",
      " 14  PitchSatisfactionScore    1649 non-null   int64\n",
      " 15  OwnCar                    1649 non-null   int64\n",
      " 16  NumberOfChildrenVisiting  1649 non-null   int32\n",
      " 17  Designation               1649 non-null   int32\n",
      " 18  MonthlyIncome             1649 non-null   int32\n",
      " 19  ProdTaken                 1649 non-null   int64\n",
      "dtypes: int32(13), int64(7)\n",
      "memory usage: 174.0 KB\n"
     ]
    }
   ],
   "source": [
    "train_data2.info()"
   ]
  },
  {
   "cell_type": "code",
   "execution_count": 22,
   "id": "7c03819b",
   "metadata": {
    "ExecuteTime": {
     "end_time": "2022-08-14T08:17:47.383480Z",
     "start_time": "2022-08-14T08:17:47.322012Z"
    },
    "scrolled": true
   },
   "outputs": [
    {
     "data": {
      "text/html": [
       "<div>\n",
       "<style scoped>\n",
       "    .dataframe tbody tr th:only-of-type {\n",
       "        vertical-align: middle;\n",
       "    }\n",
       "\n",
       "    .dataframe tbody tr th {\n",
       "        vertical-align: top;\n",
       "    }\n",
       "\n",
       "    .dataframe thead th {\n",
       "        text-align: right;\n",
       "    }\n",
       "</style>\n",
       "<table border=\"1\" class=\"dataframe\">\n",
       "  <thead>\n",
       "    <tr style=\"text-align: right;\">\n",
       "      <th></th>\n",
       "      <th>id</th>\n",
       "      <th>Age</th>\n",
       "      <th>TypeofContact</th>\n",
       "      <th>CityTier</th>\n",
       "      <th>DurationOfPitch</th>\n",
       "      <th>Occupation</th>\n",
       "      <th>Gender</th>\n",
       "      <th>NumberOfPersonVisiting</th>\n",
       "      <th>NumberOfFollowups</th>\n",
       "      <th>ProductPitched</th>\n",
       "      <th>PreferredPropertyStar</th>\n",
       "      <th>MaritalStatus</th>\n",
       "      <th>NumberOfTrips</th>\n",
       "      <th>Passport</th>\n",
       "      <th>PitchSatisfactionScore</th>\n",
       "      <th>OwnCar</th>\n",
       "      <th>NumberOfChildrenVisiting</th>\n",
       "      <th>Designation</th>\n",
       "      <th>MonthlyIncome</th>\n",
       "      <th>ProdTaken</th>\n",
       "    </tr>\n",
       "  </thead>\n",
       "  <tbody>\n",
       "    <tr>\n",
       "      <th>count</th>\n",
       "      <td>1649.000000</td>\n",
       "      <td>1649.000000</td>\n",
       "      <td>1649.000000</td>\n",
       "      <td>1649.000000</td>\n",
       "      <td>1649.000000</td>\n",
       "      <td>1649.000000</td>\n",
       "      <td>1649.000000</td>\n",
       "      <td>1649.000000</td>\n",
       "      <td>1649.000000</td>\n",
       "      <td>1649.000000</td>\n",
       "      <td>1649.000000</td>\n",
       "      <td>1649.000000</td>\n",
       "      <td>1649.000000</td>\n",
       "      <td>1649.000000</td>\n",
       "      <td>1649.000000</td>\n",
       "      <td>1649.000000</td>\n",
       "      <td>1649.000000</td>\n",
       "      <td>1649.000000</td>\n",
       "      <td>1649.000000</td>\n",
       "      <td>1649.000000</td>\n",
       "    </tr>\n",
       "    <tr>\n",
       "      <th>mean</th>\n",
       "      <td>979.323226</td>\n",
       "      <td>37.021225</td>\n",
       "      <td>0.705882</td>\n",
       "      <td>1.646452</td>\n",
       "      <td>15.627653</td>\n",
       "      <td>2.329897</td>\n",
       "      <td>1.587022</td>\n",
       "      <td>2.970285</td>\n",
       "      <td>3.752577</td>\n",
       "      <td>1.155852</td>\n",
       "      <td>3.565191</td>\n",
       "      <td>1.311098</td>\n",
       "      <td>3.316555</td>\n",
       "      <td>0.297150</td>\n",
       "      <td>3.048514</td>\n",
       "      <td>0.610673</td>\n",
       "      <td>1.257732</td>\n",
       "      <td>1.711947</td>\n",
       "      <td>23141.996968</td>\n",
       "      <td>0.203760</td>\n",
       "    </tr>\n",
       "    <tr>\n",
       "      <th>std</th>\n",
       "      <td>561.717183</td>\n",
       "      <td>9.049227</td>\n",
       "      <td>0.455783</td>\n",
       "      <td>0.912721</td>\n",
       "      <td>8.149520</td>\n",
       "      <td>0.635010</td>\n",
       "      <td>0.557257</td>\n",
       "      <td>0.704331</td>\n",
       "      <td>1.017758</td>\n",
       "      <td>1.277832</td>\n",
       "      <td>0.787972</td>\n",
       "      <td>0.963977</td>\n",
       "      <td>1.818987</td>\n",
       "      <td>0.457142</td>\n",
       "      <td>1.372873</td>\n",
       "      <td>0.487746</td>\n",
       "      <td>0.853130</td>\n",
       "      <td>0.901110</td>\n",
       "      <td>4649.463051</td>\n",
       "      <td>0.402915</td>\n",
       "    </tr>\n",
       "    <tr>\n",
       "      <th>min</th>\n",
       "      <td>1.000000</td>\n",
       "      <td>18.000000</td>\n",
       "      <td>0.000000</td>\n",
       "      <td>1.000000</td>\n",
       "      <td>5.000000</td>\n",
       "      <td>0.000000</td>\n",
       "      <td>0.000000</td>\n",
       "      <td>1.000000</td>\n",
       "      <td>1.000000</td>\n",
       "      <td>0.000000</td>\n",
       "      <td>3.000000</td>\n",
       "      <td>0.000000</td>\n",
       "      <td>1.000000</td>\n",
       "      <td>0.000000</td>\n",
       "      <td>1.000000</td>\n",
       "      <td>0.000000</td>\n",
       "      <td>0.000000</td>\n",
       "      <td>0.000000</td>\n",
       "      <td>1000.000000</td>\n",
       "      <td>0.000000</td>\n",
       "    </tr>\n",
       "    <tr>\n",
       "      <th>25%</th>\n",
       "      <td>492.000000</td>\n",
       "      <td>31.000000</td>\n",
       "      <td>0.000000</td>\n",
       "      <td>1.000000</td>\n",
       "      <td>9.000000</td>\n",
       "      <td>2.000000</td>\n",
       "      <td>1.000000</td>\n",
       "      <td>2.000000</td>\n",
       "      <td>3.000000</td>\n",
       "      <td>0.000000</td>\n",
       "      <td>3.000000</td>\n",
       "      <td>1.000000</td>\n",
       "      <td>2.000000</td>\n",
       "      <td>0.000000</td>\n",
       "      <td>2.000000</td>\n",
       "      <td>0.000000</td>\n",
       "      <td>1.000000</td>\n",
       "      <td>1.000000</td>\n",
       "      <td>20764.000000</td>\n",
       "      <td>0.000000</td>\n",
       "    </tr>\n",
       "    <tr>\n",
       "      <th>50%</th>\n",
       "      <td>978.000000</td>\n",
       "      <td>36.000000</td>\n",
       "      <td>1.000000</td>\n",
       "      <td>1.000000</td>\n",
       "      <td>14.000000</td>\n",
       "      <td>2.000000</td>\n",
       "      <td>2.000000</td>\n",
       "      <td>3.000000</td>\n",
       "      <td>4.000000</td>\n",
       "      <td>1.000000</td>\n",
       "      <td>3.000000</td>\n",
       "      <td>1.000000</td>\n",
       "      <td>3.000000</td>\n",
       "      <td>0.000000</td>\n",
       "      <td>3.000000</td>\n",
       "      <td>1.000000</td>\n",
       "      <td>1.000000</td>\n",
       "      <td>2.000000</td>\n",
       "      <td>22359.000000</td>\n",
       "      <td>0.000000</td>\n",
       "    </tr>\n",
       "    <tr>\n",
       "      <th>75%</th>\n",
       "      <td>1465.000000</td>\n",
       "      <td>43.000000</td>\n",
       "      <td>1.000000</td>\n",
       "      <td>3.000000</td>\n",
       "      <td>21.000000</td>\n",
       "      <td>3.000000</td>\n",
       "      <td>2.000000</td>\n",
       "      <td>3.000000</td>\n",
       "      <td>4.000000</td>\n",
       "      <td>2.000000</td>\n",
       "      <td>4.000000</td>\n",
       "      <td>2.000000</td>\n",
       "      <td>4.000000</td>\n",
       "      <td>1.000000</td>\n",
       "      <td>4.000000</td>\n",
       "      <td>1.000000</td>\n",
       "      <td>2.000000</td>\n",
       "      <td>2.000000</td>\n",
       "      <td>25266.000000</td>\n",
       "      <td>0.000000</td>\n",
       "    </tr>\n",
       "    <tr>\n",
       "      <th>max</th>\n",
       "      <td>1955.000000</td>\n",
       "      <td>61.000000</td>\n",
       "      <td>1.000000</td>\n",
       "      <td>3.000000</td>\n",
       "      <td>36.000000</td>\n",
       "      <td>3.000000</td>\n",
       "      <td>2.000000</td>\n",
       "      <td>5.000000</td>\n",
       "      <td>6.000000</td>\n",
       "      <td>4.000000</td>\n",
       "      <td>5.000000</td>\n",
       "      <td>3.000000</td>\n",
       "      <td>19.000000</td>\n",
       "      <td>1.000000</td>\n",
       "      <td>5.000000</td>\n",
       "      <td>1.000000</td>\n",
       "      <td>3.000000</td>\n",
       "      <td>4.000000</td>\n",
       "      <td>98678.000000</td>\n",
       "      <td>1.000000</td>\n",
       "    </tr>\n",
       "  </tbody>\n",
       "</table>\n",
       "</div>"
      ],
      "text/plain": [
       "                id          Age  TypeofContact     CityTier  DurationOfPitch  \\\n",
       "count  1649.000000  1649.000000    1649.000000  1649.000000      1649.000000   \n",
       "mean    979.323226    37.021225       0.705882     1.646452        15.627653   \n",
       "std     561.717183     9.049227       0.455783     0.912721         8.149520   \n",
       "min       1.000000    18.000000       0.000000     1.000000         5.000000   \n",
       "25%     492.000000    31.000000       0.000000     1.000000         9.000000   \n",
       "50%     978.000000    36.000000       1.000000     1.000000        14.000000   \n",
       "75%    1465.000000    43.000000       1.000000     3.000000        21.000000   \n",
       "max    1955.000000    61.000000       1.000000     3.000000        36.000000   \n",
       "\n",
       "        Occupation       Gender  NumberOfPersonVisiting  NumberOfFollowups  \\\n",
       "count  1649.000000  1649.000000             1649.000000        1649.000000   \n",
       "mean      2.329897     1.587022                2.970285           3.752577   \n",
       "std       0.635010     0.557257                0.704331           1.017758   \n",
       "min       0.000000     0.000000                1.000000           1.000000   \n",
       "25%       2.000000     1.000000                2.000000           3.000000   \n",
       "50%       2.000000     2.000000                3.000000           4.000000   \n",
       "75%       3.000000     2.000000                3.000000           4.000000   \n",
       "max       3.000000     2.000000                5.000000           6.000000   \n",
       "\n",
       "       ProductPitched  PreferredPropertyStar  MaritalStatus  NumberOfTrips  \\\n",
       "count     1649.000000            1649.000000    1649.000000    1649.000000   \n",
       "mean         1.155852               3.565191       1.311098       3.316555   \n",
       "std          1.277832               0.787972       0.963977       1.818987   \n",
       "min          0.000000               3.000000       0.000000       1.000000   \n",
       "25%          0.000000               3.000000       1.000000       2.000000   \n",
       "50%          1.000000               3.000000       1.000000       3.000000   \n",
       "75%          2.000000               4.000000       2.000000       4.000000   \n",
       "max          4.000000               5.000000       3.000000      19.000000   \n",
       "\n",
       "          Passport  PitchSatisfactionScore       OwnCar  \\\n",
       "count  1649.000000             1649.000000  1649.000000   \n",
       "mean      0.297150                3.048514     0.610673   \n",
       "std       0.457142                1.372873     0.487746   \n",
       "min       0.000000                1.000000     0.000000   \n",
       "25%       0.000000                2.000000     0.000000   \n",
       "50%       0.000000                3.000000     1.000000   \n",
       "75%       1.000000                4.000000     1.000000   \n",
       "max       1.000000                5.000000     1.000000   \n",
       "\n",
       "       NumberOfChildrenVisiting  Designation  MonthlyIncome    ProdTaken  \n",
       "count               1649.000000  1649.000000    1649.000000  1649.000000  \n",
       "mean                   1.257732     1.711947   23141.996968     0.203760  \n",
       "std                    0.853130     0.901110    4649.463051     0.402915  \n",
       "min                    0.000000     0.000000    1000.000000     0.000000  \n",
       "25%                    1.000000     1.000000   20764.000000     0.000000  \n",
       "50%                    1.000000     2.000000   22359.000000     0.000000  \n",
       "75%                    2.000000     2.000000   25266.000000     0.000000  \n",
       "max                    3.000000     4.000000   98678.000000     1.000000  "
      ]
     },
     "execution_count": 22,
     "metadata": {},
     "output_type": "execute_result"
    }
   ],
   "source": [
    "train_data2.describe()"
   ]
  },
  {
   "cell_type": "code",
   "execution_count": 23,
   "id": "b0981c06",
   "metadata": {
    "ExecuteTime": {
     "end_time": "2022-08-14T08:17:51.035975Z",
     "start_time": "2022-08-14T08:17:47.384478Z"
    }
   },
   "outputs": [
    {
     "data": {
      "image/png": "[encoded data removed]",
      "text/plain": [
       "<Figure size 720x648 with 20 Axes>"
      ]
     },
     "metadata": {
      "needs_background": "light"
     },
     "output_type": "display_data"
    }
   ],
   "source": [
    "# 데이터 시각화\n",
    "train_data2.hist(figsize=(10,9))\n",
    "plt.tight_layout() # 그래프 간격 설정\n",
    "plt.show()"
   ]
  },
  {
   "cell_type": "markdown",
   "id": "c23c762a",
   "metadata": {},
   "source": [
    "- 본격적으로 데이터 분석 진행"
   ]
  },
  {
   "cell_type": "markdown",
   "id": "c7065efb",
   "metadata": {},
   "source": [
    "## Age"
   ]
  },
  {
   "cell_type": "code",
   "execution_count": 24,
   "id": "31f530dd",
   "metadata": {
    "ExecuteTime": {
     "end_time": "2022-08-14T08:17:51.059156Z",
     "start_time": "2022-08-14T08:17:51.038314Z"
    }
   },
   "outputs": [
    {
     "data": {
      "text/plain": [
       "count    1649.000000\n",
       "mean       37.021225\n",
       "std         9.049227\n",
       "min        18.000000\n",
       "25%        31.000000\n",
       "50%        36.000000\n",
       "75%        43.000000\n",
       "max        61.000000\n",
       "Name: Age, dtype: float64"
      ]
     },
     "execution_count": 24,
     "metadata": {},
     "output_type": "execute_result"
    }
   ],
   "source": [
    "train_data2['Age'].describe()"
   ]
  },
  {
   "cell_type": "code",
   "execution_count": 25,
   "id": "fc979f30",
   "metadata": {
    "ExecuteTime": {
     "end_time": "2022-08-14T08:17:51.443156Z",
     "start_time": "2022-08-14T08:17:51.061151Z"
    }
   },
   "outputs": [
    {
     "data": {
      "image/png": "[encoded data removed]",
      "text/plain": [
       "<Figure size 1080x432 with 1 Axes>"
      ]
     },
     "metadata": {
      "needs_background": "light"
     },
     "output_type": "display_data"
    }
   ],
   "source": [
    "plt.figure(figsize=(15,6)) # 그래프 크기 조정\n",
    "g = sns.boxplot(x='ProdTaken', y='Age', data=train_data2, showfliers=False)\n",
    "g.set_title('Age별 상자그림', size = 20)\n",
    "g.set_xticklabels(g.get_xticklabels(),rotation=90)\n",
    "plt.show()"
   ]
  },
  {
   "cell_type": "markdown",
   "id": "3a6d8567",
   "metadata": {},
   "source": [
    "- 대체로 여행상품을 사는 사람들의 나이가 젊다는 것을 볼 수 있음"
   ]
  },
  {
   "cell_type": "markdown",
   "id": "2ae3481d",
   "metadata": {},
   "source": [
    "## TypeofContact "
   ]
  },
  {
   "cell_type": "markdown",
   "id": "51799f04",
   "metadata": {},
   "source": [
    "- 고객의 제품 인지 방법 (회사의 홍보 or 스스로 검색)\n",
    "- 회사의 홍보 : 0 , 스스로 검색 : 1"
   ]
  },
  {
   "cell_type": "code",
   "execution_count": 26,
   "id": "e9bf581d",
   "metadata": {
    "ExecuteTime": {
     "end_time": "2022-08-14T08:17:51.459873Z",
     "start_time": "2022-08-14T08:17:51.445153Z"
    },
    "scrolled": true
   },
   "outputs": [
    {
     "data": {
      "text/plain": [
       "count    1649.000000\n",
       "mean        0.705882\n",
       "std         0.455783\n",
       "min         0.000000\n",
       "25%         0.000000\n",
       "50%         1.000000\n",
       "75%         1.000000\n",
       "max         1.000000\n",
       "Name: TypeofContact, dtype: float64"
      ]
     },
     "execution_count": 26,
     "metadata": {},
     "output_type": "execute_result"
    }
   ],
   "source": [
    "train_data2['TypeofContact'].describe()"
   ]
  },
  {
   "cell_type": "code",
   "execution_count": 27,
   "id": "1e92053e",
   "metadata": {
    "ExecuteTime": {
     "end_time": "2022-08-14T08:17:51.483053Z",
     "start_time": "2022-08-14T08:17:51.460994Z"
    }
   },
   "outputs": [
    {
     "data": {
      "text/plain": [
       "1    946\n",
       "0    367\n",
       "Name: TypeofContact, dtype: int64"
      ]
     },
     "execution_count": 27,
     "metadata": {},
     "output_type": "execute_result"
    }
   ],
   "source": [
    "train_data2[train_data2['ProdTaken']==0]['TypeofContact'].value_counts()"
   ]
  },
  {
   "cell_type": "code",
   "execution_count": 28,
   "id": "200d8c15",
   "metadata": {
    "ExecuteTime": {
     "end_time": "2022-08-14T08:17:51.499565Z",
     "start_time": "2022-08-14T08:17:51.487523Z"
    }
   },
   "outputs": [
    {
     "data": {
      "text/plain": [
       "1    218\n",
       "0    118\n",
       "Name: TypeofContact, dtype: int64"
      ]
     },
     "execution_count": 28,
     "metadata": {},
     "output_type": "execute_result"
    }
   ],
   "source": [
    "train_data2[train_data2['ProdTaken']==1]['TypeofContact'].value_counts()"
   ]
  },
  {
   "cell_type": "code",
   "execution_count": 29,
   "id": "61ab2ac3",
   "metadata": {
    "ExecuteTime": {
     "end_time": "2022-08-14T08:17:51.772919Z",
     "start_time": "2022-08-14T08:17:51.501535Z"
    },
    "scrolled": true
   },
   "outputs": [
    {
     "data": {
      "image/png": "[encoded data removed]",
      "text/plain": [
       "<Figure size 1080x720 with 2 Axes>"
      ]
     },
     "metadata": {},
     "output_type": "display_data"
    }
   ],
   "source": [
    "fig, axs = plt.subplots(1,2,figsize=(15,10)) # 그래프 크기 조정\n",
    "fig.suptitle('TypeofContact 분포')\n",
    "labels = [1,0]\n",
    "colors = ['#ffadad', '#ffd6a5', '#fdffb6']\n",
    "axs[0].pie(train_data2[train_data2['ProdTaken']==0]['TypeofContact'].value_counts(),colors=colors,labels=labels,autopct=\"%.1f%%\")\n",
    "axs[0].set_title('ProdTaken = 0 일 때')\n",
    "axs[1].pie(train_data2[train_data2['ProdTaken']==1]['TypeofContact'].value_counts(),colors=colors,labels=labels,autopct=\"%.1f%%\")\n",
    "axs[1].set_title('ProdTaken = 1 일 때')\n",
    "plt.show()"
   ]
  },
  {
   "cell_type": "markdown",
   "id": "8fe84441",
   "metadata": {},
   "source": [
    "## CityTier "
   ]
  },
  {
   "cell_type": "markdown",
   "id": "214801e3",
   "metadata": {},
   "source": [
    "- 주거 중인 도시의 등급. (인구, 시설, 생활 수준 기준) (1등급 > 2등급 > 3등급) "
   ]
  },
  {
   "cell_type": "code",
   "execution_count": 30,
   "id": "9241aa73",
   "metadata": {
    "ExecuteTime": {
     "end_time": "2022-08-14T08:17:51.796007Z",
     "start_time": "2022-08-14T08:17:51.775737Z"
    }
   },
   "outputs": [
    {
     "data": {
      "text/plain": [
       "count    1649.000000\n",
       "mean        1.646452\n",
       "std         0.912721\n",
       "min         1.000000\n",
       "25%         1.000000\n",
       "50%         1.000000\n",
       "75%         3.000000\n",
       "max         3.000000\n",
       "Name: CityTier, dtype: float64"
      ]
     },
     "execution_count": 30,
     "metadata": {},
     "output_type": "execute_result"
    }
   ],
   "source": [
    "train_data2['CityTier'].describe()"
   ]
  },
  {
   "cell_type": "code",
   "execution_count": 31,
   "id": "aac7c5dc",
   "metadata": {
    "ExecuteTime": {
     "end_time": "2022-08-14T08:17:51.812225Z",
     "start_time": "2022-08-14T08:17:51.799962Z"
    }
   },
   "outputs": [
    {
     "data": {
      "text/plain": [
       "1    1081\n",
       "3     498\n",
       "2      70\n",
       "Name: CityTier, dtype: int64"
      ]
     },
     "execution_count": 31,
     "metadata": {},
     "output_type": "execute_result"
    }
   ],
   "source": [
    "train_data2['CityTier'].value_counts()"
   ]
  },
  {
   "cell_type": "code",
   "execution_count": 32,
   "id": "840e0361",
   "metadata": {
    "ExecuteTime": {
     "end_time": "2022-08-14T08:17:51.828295Z",
     "start_time": "2022-08-14T08:17:51.813214Z"
    }
   },
   "outputs": [
    {
     "data": {
      "text/plain": [
       "1    892\n",
       "3    372\n",
       "2     49\n",
       "Name: CityTier, dtype: int64"
      ]
     },
     "execution_count": 32,
     "metadata": {},
     "output_type": "execute_result"
    }
   ],
   "source": [
    "train_data2[train_data2['ProdTaken']==0]['CityTier'].value_counts()"
   ]
  },
  {
   "cell_type": "code",
   "execution_count": 33,
   "id": "e0bd4361",
   "metadata": {
    "ExecuteTime": {
     "end_time": "2022-08-14T08:17:51.844504Z",
     "start_time": "2022-08-14T08:17:51.829292Z"
    },
    "scrolled": true
   },
   "outputs": [
    {
     "data": {
      "text/plain": [
       "1    189\n",
       "3    126\n",
       "2     21\n",
       "Name: CityTier, dtype: int64"
      ]
     },
     "execution_count": 33,
     "metadata": {},
     "output_type": "execute_result"
    }
   ],
   "source": [
    "train_data2[train_data2['ProdTaken']==1]['CityTier'].value_counts()"
   ]
  },
  {
   "cell_type": "code",
   "execution_count": 34,
   "id": "eb8be64f",
   "metadata": {
    "ExecuteTime": {
     "end_time": "2022-08-14T08:17:52.168636Z",
     "start_time": "2022-08-14T08:17:51.845500Z"
    },
    "scrolled": true
   },
   "outputs": [
    {
     "data": {
      "image/png": "[encoded data removed]",
      "text/plain": [
       "<Figure size 1080x720 with 2 Axes>"
      ]
     },
     "metadata": {},
     "output_type": "display_data"
    }
   ],
   "source": [
    "fig, axs = plt.subplots(1,2,figsize=(15,10)) # 그래프 크기 조정\n",
    "fig.suptitle('CityTier 분포')\n",
    "labels = [1,3,2]\n",
    "colors = ['#ffadad', '#ffd6a5', '#fdffb6']\n",
    "axs[0].pie(train_data2[train_data2['ProdTaken']==0]['CityTier'].value_counts(),colors=colors,labels=labels,autopct=\"%.1f%%\")\n",
    "axs[0].set_title('ProdTaken = 0 일 때')\n",
    "axs[1].pie(train_data2[train_data2['ProdTaken']==1]['CityTier'].value_counts(),colors=colors,labels=labels,autopct=\"%.1f%%\")\n",
    "axs[1].set_title('ProdTaken = 1 일 때')\n",
    "plt.show()"
   ]
  },
  {
   "cell_type": "markdown",
   "id": "f9ddd4b4",
   "metadata": {},
   "source": [
    "- 1등급이 낮아지고 2등급 3등급 비율이 올라감"
   ]
  },
  {
   "cell_type": "markdown",
   "id": "b428e288",
   "metadata": {},
   "source": [
    "## DurationOfPitch "
   ]
  },
  {
   "cell_type": "markdown",
   "id": "36a2d483",
   "metadata": {},
   "source": [
    "- 영업 사원이 고객에게 제공하는 프레젠테이션 기간"
   ]
  },
  {
   "cell_type": "code",
   "execution_count": 35,
   "id": "91a65054",
   "metadata": {
    "ExecuteTime": {
     "end_time": "2022-08-14T08:17:52.183654Z",
     "start_time": "2022-08-14T08:17:52.169671Z"
    }
   },
   "outputs": [
    {
     "data": {
      "text/plain": [
       "count    1649.000000\n",
       "mean       15.627653\n",
       "std         8.149520\n",
       "min         5.000000\n",
       "25%         9.000000\n",
       "50%        14.000000\n",
       "75%        21.000000\n",
       "max        36.000000\n",
       "Name: DurationOfPitch, dtype: float64"
      ]
     },
     "execution_count": 35,
     "metadata": {},
     "output_type": "execute_result"
    }
   ],
   "source": [
    "train_data2['DurationOfPitch'].describe()"
   ]
  },
  {
   "cell_type": "code",
   "execution_count": 36,
   "id": "b915ac9e",
   "metadata": {
    "ExecuteTime": {
     "end_time": "2022-08-14T08:17:52.416727Z",
     "start_time": "2022-08-14T08:17:52.184203Z"
    }
   },
   "outputs": [
    {
     "data": {
      "image/png": "[encoded data removed]",
      "text/plain": [
       "<Figure size 1080x432 with 1 Axes>"
      ]
     },
     "metadata": {
      "needs_background": "light"
     },
     "output_type": "display_data"
    }
   ],
   "source": [
    "plt.figure(figsize=(15,6)) # 그래프 크기 조정\n",
    "g = sns.boxplot(x='ProdTaken', y='DurationOfPitch', data=train_data2, showfliers=False)\n",
    "g.set_title('DurationOfPitch별 상자그림', size = 20)\n",
    "g.set_xticklabels(g.get_xticklabels(),rotation=90)\n",
    "plt.show()"
   ]
  },
  {
   "cell_type": "code",
   "execution_count": null,
   "id": "3deacad8",
   "metadata": {},
   "outputs": [],
   "source": []
  },
  {
   "cell_type": "markdown",
   "id": "cde8e4e0",
   "metadata": {},
   "source": [
    "# 모델 학습"
   ]
  },
  {
   "cell_type": "code",
   "execution_count": 37,
   "id": "ae340a8b",
   "metadata": {
    "ExecuteTime": {
     "end_time": "2022-08-14T08:19:12.916453Z",
     "start_time": "2022-08-14T08:19:12.910467Z"
    }
   },
   "outputs": [],
   "source": [
    "# 정규화를 위해 sklearn의 StandardScaler를 사용합니다.\n",
    "from sklearn.preprocessing import StandardScaler"
   ]
  },
  {
   "cell_type": "code",
   "execution_count": 38,
   "id": "d0b06a1a",
   "metadata": {
    "ExecuteTime": {
     "end_time": "2022-08-14T08:19:20.224050Z",
     "start_time": "2022-08-14T08:19:20.199541Z"
    }
   },
   "outputs": [
    {
     "data": {
      "text/html": [
       "<div>\n",
       "<style scoped>\n",
       "    .dataframe tbody tr th:only-of-type {\n",
       "        vertical-align: middle;\n",
       "    }\n",
       "\n",
       "    .dataframe tbody tr th {\n",
       "        vertical-align: top;\n",
       "    }\n",
       "\n",
       "    .dataframe thead th {\n",
       "        text-align: right;\n",
       "    }\n",
       "</style>\n",
       "<table border=\"1\" class=\"dataframe\">\n",
       "  <thead>\n",
       "    <tr style=\"text-align: right;\">\n",
       "      <th></th>\n",
       "      <th>id</th>\n",
       "      <th>Age</th>\n",
       "      <th>TypeofContact</th>\n",
       "      <th>CityTier</th>\n",
       "      <th>DurationOfPitch</th>\n",
       "      <th>Occupation</th>\n",
       "      <th>Gender</th>\n",
       "      <th>NumberOfPersonVisiting</th>\n",
       "      <th>NumberOfFollowups</th>\n",
       "      <th>ProductPitched</th>\n",
       "      <th>PreferredPropertyStar</th>\n",
       "      <th>MaritalStatus</th>\n",
       "      <th>NumberOfTrips</th>\n",
       "      <th>Passport</th>\n",
       "      <th>PitchSatisfactionScore</th>\n",
       "      <th>OwnCar</th>\n",
       "      <th>NumberOfChildrenVisiting</th>\n",
       "      <th>Designation</th>\n",
       "      <th>MonthlyIncome</th>\n",
       "      <th>ProdTaken</th>\n",
       "    </tr>\n",
       "  </thead>\n",
       "  <tbody>\n",
       "    <tr>\n",
       "      <th>0</th>\n",
       "      <td>1</td>\n",
       "      <td>28</td>\n",
       "      <td>0</td>\n",
       "      <td>1</td>\n",
       "      <td>10</td>\n",
       "      <td>3</td>\n",
       "      <td>2</td>\n",
       "      <td>3</td>\n",
       "      <td>4</td>\n",
       "      <td>0</td>\n",
       "      <td>3</td>\n",
       "      <td>1</td>\n",
       "      <td>3</td>\n",
       "      <td>0</td>\n",
       "      <td>1</td>\n",
       "      <td>0</td>\n",
       "      <td>1</td>\n",
       "      <td>1</td>\n",
       "      <td>20384</td>\n",
       "      <td>0</td>\n",
       "    </tr>\n",
       "    <tr>\n",
       "      <th>1</th>\n",
       "      <td>4</td>\n",
       "      <td>29</td>\n",
       "      <td>0</td>\n",
       "      <td>1</td>\n",
       "      <td>7</td>\n",
       "      <td>3</td>\n",
       "      <td>2</td>\n",
       "      <td>3</td>\n",
       "      <td>5</td>\n",
       "      <td>0</td>\n",
       "      <td>4</td>\n",
       "      <td>1</td>\n",
       "      <td>3</td>\n",
       "      <td>0</td>\n",
       "      <td>4</td>\n",
       "      <td>0</td>\n",
       "      <td>1</td>\n",
       "      <td>1</td>\n",
       "      <td>21274</td>\n",
       "      <td>1</td>\n",
       "    </tr>\n",
       "    <tr>\n",
       "      <th>2</th>\n",
       "      <td>5</td>\n",
       "      <td>42</td>\n",
       "      <td>1</td>\n",
       "      <td>3</td>\n",
       "      <td>6</td>\n",
       "      <td>2</td>\n",
       "      <td>2</td>\n",
       "      <td>2</td>\n",
       "      <td>3</td>\n",
       "      <td>1</td>\n",
       "      <td>3</td>\n",
       "      <td>0</td>\n",
       "      <td>2</td>\n",
       "      <td>0</td>\n",
       "      <td>3</td>\n",
       "      <td>1</td>\n",
       "      <td>0</td>\n",
       "      <td>2</td>\n",
       "      <td>19907</td>\n",
       "      <td>0</td>\n",
       "    </tr>\n",
       "    <tr>\n",
       "      <th>3</th>\n",
       "      <td>6</td>\n",
       "      <td>32</td>\n",
       "      <td>1</td>\n",
       "      <td>1</td>\n",
       "      <td>29</td>\n",
       "      <td>3</td>\n",
       "      <td>2</td>\n",
       "      <td>4</td>\n",
       "      <td>4</td>\n",
       "      <td>1</td>\n",
       "      <td>3</td>\n",
       "      <td>0</td>\n",
       "      <td>3</td>\n",
       "      <td>1</td>\n",
       "      <td>5</td>\n",
       "      <td>1</td>\n",
       "      <td>1</td>\n",
       "      <td>2</td>\n",
       "      <td>24857</td>\n",
       "      <td>1</td>\n",
       "    </tr>\n",
       "    <tr>\n",
       "      <th>4</th>\n",
       "      <td>7</td>\n",
       "      <td>43</td>\n",
       "      <td>0</td>\n",
       "      <td>3</td>\n",
       "      <td>8</td>\n",
       "      <td>2</td>\n",
       "      <td>2</td>\n",
       "      <td>3</td>\n",
       "      <td>3</td>\n",
       "      <td>1</td>\n",
       "      <td>3</td>\n",
       "      <td>1</td>\n",
       "      <td>2</td>\n",
       "      <td>0</td>\n",
       "      <td>3</td>\n",
       "      <td>1</td>\n",
       "      <td>2</td>\n",
       "      <td>2</td>\n",
       "      <td>20675</td>\n",
       "      <td>0</td>\n",
       "    </tr>\n",
       "    <tr>\n",
       "      <th>...</th>\n",
       "      <td>...</td>\n",
       "      <td>...</td>\n",
       "      <td>...</td>\n",
       "      <td>...</td>\n",
       "      <td>...</td>\n",
       "      <td>...</td>\n",
       "      <td>...</td>\n",
       "      <td>...</td>\n",
       "      <td>...</td>\n",
       "      <td>...</td>\n",
       "      <td>...</td>\n",
       "      <td>...</td>\n",
       "      <td>...</td>\n",
       "      <td>...</td>\n",
       "      <td>...</td>\n",
       "      <td>...</td>\n",
       "      <td>...</td>\n",
       "      <td>...</td>\n",
       "      <td>...</td>\n",
       "      <td>...</td>\n",
       "    </tr>\n",
       "    <tr>\n",
       "      <th>1644</th>\n",
       "      <td>1951</td>\n",
       "      <td>28</td>\n",
       "      <td>1</td>\n",
       "      <td>1</td>\n",
       "      <td>10</td>\n",
       "      <td>3</td>\n",
       "      <td>2</td>\n",
       "      <td>3</td>\n",
       "      <td>5</td>\n",
       "      <td>0</td>\n",
       "      <td>3</td>\n",
       "      <td>2</td>\n",
       "      <td>2</td>\n",
       "      <td>0</td>\n",
       "      <td>1</td>\n",
       "      <td>1</td>\n",
       "      <td>2</td>\n",
       "      <td>1</td>\n",
       "      <td>20723</td>\n",
       "      <td>0</td>\n",
       "    </tr>\n",
       "    <tr>\n",
       "      <th>1645</th>\n",
       "      <td>1952</td>\n",
       "      <td>41</td>\n",
       "      <td>1</td>\n",
       "      <td>3</td>\n",
       "      <td>8</td>\n",
       "      <td>2</td>\n",
       "      <td>1</td>\n",
       "      <td>3</td>\n",
       "      <td>3</td>\n",
       "      <td>4</td>\n",
       "      <td>5</td>\n",
       "      <td>0</td>\n",
       "      <td>1</td>\n",
       "      <td>0</td>\n",
       "      <td>5</td>\n",
       "      <td>1</td>\n",
       "      <td>1</td>\n",
       "      <td>0</td>\n",
       "      <td>31595</td>\n",
       "      <td>0</td>\n",
       "    </tr>\n",
       "    <tr>\n",
       "      <th>1646</th>\n",
       "      <td>1953</td>\n",
       "      <td>38</td>\n",
       "      <td>0</td>\n",
       "      <td>3</td>\n",
       "      <td>28</td>\n",
       "      <td>3</td>\n",
       "      <td>1</td>\n",
       "      <td>3</td>\n",
       "      <td>4</td>\n",
       "      <td>0</td>\n",
       "      <td>3</td>\n",
       "      <td>0</td>\n",
       "      <td>7</td>\n",
       "      <td>0</td>\n",
       "      <td>2</td>\n",
       "      <td>1</td>\n",
       "      <td>2</td>\n",
       "      <td>1</td>\n",
       "      <td>21651</td>\n",
       "      <td>0</td>\n",
       "    </tr>\n",
       "    <tr>\n",
       "      <th>1647</th>\n",
       "      <td>1954</td>\n",
       "      <td>28</td>\n",
       "      <td>1</td>\n",
       "      <td>3</td>\n",
       "      <td>30</td>\n",
       "      <td>3</td>\n",
       "      <td>1</td>\n",
       "      <td>3</td>\n",
       "      <td>5</td>\n",
       "      <td>1</td>\n",
       "      <td>3</td>\n",
       "      <td>1</td>\n",
       "      <td>3</td>\n",
       "      <td>0</td>\n",
       "      <td>1</td>\n",
       "      <td>1</td>\n",
       "      <td>2</td>\n",
       "      <td>2</td>\n",
       "      <td>22218</td>\n",
       "      <td>0</td>\n",
       "    </tr>\n",
       "    <tr>\n",
       "      <th>1648</th>\n",
       "      <td>1955</td>\n",
       "      <td>22</td>\n",
       "      <td>0</td>\n",
       "      <td>1</td>\n",
       "      <td>9</td>\n",
       "      <td>2</td>\n",
       "      <td>2</td>\n",
       "      <td>2</td>\n",
       "      <td>4</td>\n",
       "      <td>0</td>\n",
       "      <td>3</td>\n",
       "      <td>0</td>\n",
       "      <td>1</td>\n",
       "      <td>1</td>\n",
       "      <td>3</td>\n",
       "      <td>0</td>\n",
       "      <td>0</td>\n",
       "      <td>1</td>\n",
       "      <td>17853</td>\n",
       "      <td>1</td>\n",
       "    </tr>\n",
       "  </tbody>\n",
       "</table>\n",
       "<p>1649 rows × 20 columns</p>\n",
       "</div>"
      ],
      "text/plain": [
       "        id  Age  TypeofContact  CityTier  DurationOfPitch  Occupation  Gender  \\\n",
       "0        1   28              0         1               10           3       2   \n",
       "1        4   29              0         1                7           3       2   \n",
       "2        5   42              1         3                6           2       2   \n",
       "3        6   32              1         1               29           3       2   \n",
       "4        7   43              0         3                8           2       2   \n",
       "...    ...  ...            ...       ...              ...         ...     ...   \n",
       "1644  1951   28              1         1               10           3       2   \n",
       "1645  1952   41              1         3                8           2       1   \n",
       "1646  1953   38              0         3               28           3       1   \n",
       "1647  1954   28              1         3               30           3       1   \n",
       "1648  1955   22              0         1                9           2       2   \n",
       "\n",
       "      NumberOfPersonVisiting  NumberOfFollowups  ProductPitched  \\\n",
       "0                          3                  4               0   \n",
       "1                          3                  5               0   \n",
       "2                          2                  3               1   \n",
       "3                          4                  4               1   \n",
       "4                          3                  3               1   \n",
       "...                      ...                ...             ...   \n",
       "1644                       3                  5               0   \n",
       "1645                       3                  3               4   \n",
       "1646                       3                  4               0   \n",
       "1647                       3                  5               1   \n",
       "1648                       2                  4               0   \n",
       "\n",
       "      PreferredPropertyStar  MaritalStatus  NumberOfTrips  Passport  \\\n",
       "0                         3              1              3         0   \n",
       "1                         4              1              3         0   \n",
       "2                         3              0              2         0   \n",
       "3                         3              0              3         1   \n",
       "4                         3              1              2         0   \n",
       "...                     ...            ...            ...       ...   \n",
       "1644                      3              2              2         0   \n",
       "1645                      5              0              1         0   \n",
       "1646                      3              0              7         0   \n",
       "1647                      3              1              3         0   \n",
       "1648                      3              0              1         1   \n",
       "\n",
       "      PitchSatisfactionScore  OwnCar  NumberOfChildrenVisiting  Designation  \\\n",
       "0                          1       0                         1            1   \n",
       "1                          4       0                         1            1   \n",
       "2                          3       1                         0            2   \n",
       "3                          5       1                         1            2   \n",
       "4                          3       1                         2            2   \n",
       "...                      ...     ...                       ...          ...   \n",
       "1644                       1       1                         2            1   \n",
       "1645                       5       1                         1            0   \n",
       "1646                       2       1                         2            1   \n",
       "1647                       1       1                         2            2   \n",
       "1648                       3       0                         0            1   \n",
       "\n",
       "      MonthlyIncome  ProdTaken  \n",
       "0             20384          0  \n",
       "1             21274          1  \n",
       "2             19907          0  \n",
       "3             24857          1  \n",
       "4             20675          0  \n",
       "...             ...        ...  \n",
       "1644          20723          0  \n",
       "1645          31595          0  \n",
       "1646          21651          0  \n",
       "1647          22218          0  \n",
       "1648          17853          1  \n",
       "\n",
       "[1649 rows x 20 columns]"
      ]
     },
     "execution_count": 38,
     "metadata": {},
     "output_type": "execute_result"
    }
   ],
   "source": [
    "train_data2"
   ]
  },
  {
   "cell_type": "code",
   "execution_count": 40,
   "id": "ce24d9a9",
   "metadata": {
    "ExecuteTime": {
     "end_time": "2022-08-14T08:21:47.072278Z",
     "start_time": "2022-08-14T08:21:47.053211Z"
    }
   },
   "outputs": [],
   "source": [
    "scaler = StandardScaler()\n",
    "\n",
    "# 학습용 데이터를 이용해 scaler를 학습시킵니다.\n",
    "scaler.fit(train_data2[['MonthlyIncome']])\n",
    "\n",
    "# 학습된 scaler를 사용해 데이터를 변환합니다.\n",
    "scaled = scaler.transform(train_data2[['MonthlyIncome']])\n",
    "\n",
    "# 변환된 값을 새로운 column에 할당합니다.\n",
    "train_data2[['MonthlyIncome']] = scaled\n"
   ]
  },
  {
   "cell_type": "code",
   "execution_count": 42,
   "id": "d5021ca9",
   "metadata": {
    "ExecuteTime": {
     "end_time": "2022-08-14T08:21:51.559515Z",
     "start_time": "2022-08-14T08:21:51.527046Z"
    }
   },
   "outputs": [
    {
     "data": {
      "text/html": [
       "<div>\n",
       "<style scoped>\n",
       "    .dataframe tbody tr th:only-of-type {\n",
       "        vertical-align: middle;\n",
       "    }\n",
       "\n",
       "    .dataframe tbody tr th {\n",
       "        vertical-align: top;\n",
       "    }\n",
       "\n",
       "    .dataframe thead th {\n",
       "        text-align: right;\n",
       "    }\n",
       "</style>\n",
       "<table border=\"1\" class=\"dataframe\">\n",
       "  <thead>\n",
       "    <tr style=\"text-align: right;\">\n",
       "      <th></th>\n",
       "      <th>id</th>\n",
       "      <th>Age</th>\n",
       "      <th>TypeofContact</th>\n",
       "      <th>CityTier</th>\n",
       "      <th>DurationOfPitch</th>\n",
       "      <th>Occupation</th>\n",
       "      <th>Gender</th>\n",
       "      <th>NumberOfPersonVisiting</th>\n",
       "      <th>NumberOfFollowups</th>\n",
       "      <th>ProductPitched</th>\n",
       "      <th>PreferredPropertyStar</th>\n",
       "      <th>MaritalStatus</th>\n",
       "      <th>NumberOfTrips</th>\n",
       "      <th>Passport</th>\n",
       "      <th>PitchSatisfactionScore</th>\n",
       "      <th>OwnCar</th>\n",
       "      <th>NumberOfChildrenVisiting</th>\n",
       "      <th>Designation</th>\n",
       "      <th>MonthlyIncome</th>\n",
       "      <th>ProdTaken</th>\n",
       "    </tr>\n",
       "  </thead>\n",
       "  <tbody>\n",
       "    <tr>\n",
       "      <th>0</th>\n",
       "      <td>1</td>\n",
       "      <td>28</td>\n",
       "      <td>0</td>\n",
       "      <td>1</td>\n",
       "      <td>10</td>\n",
       "      <td>3</td>\n",
       "      <td>2</td>\n",
       "      <td>3</td>\n",
       "      <td>4</td>\n",
       "      <td>0</td>\n",
       "      <td>3</td>\n",
       "      <td>1</td>\n",
       "      <td>3</td>\n",
       "      <td>0</td>\n",
       "      <td>1</td>\n",
       "      <td>0</td>\n",
       "      <td>1</td>\n",
       "      <td>1</td>\n",
       "      <td>-0.593366</td>\n",
       "      <td>0</td>\n",
       "    </tr>\n",
       "    <tr>\n",
       "      <th>1</th>\n",
       "      <td>4</td>\n",
       "      <td>29</td>\n",
       "      <td>0</td>\n",
       "      <td>1</td>\n",
       "      <td>7</td>\n",
       "      <td>3</td>\n",
       "      <td>2</td>\n",
       "      <td>3</td>\n",
       "      <td>5</td>\n",
       "      <td>0</td>\n",
       "      <td>4</td>\n",
       "      <td>1</td>\n",
       "      <td>3</td>\n",
       "      <td>0</td>\n",
       "      <td>4</td>\n",
       "      <td>0</td>\n",
       "      <td>1</td>\n",
       "      <td>1</td>\n",
       "      <td>-0.401888</td>\n",
       "      <td>1</td>\n",
       "    </tr>\n",
       "    <tr>\n",
       "      <th>2</th>\n",
       "      <td>5</td>\n",
       "      <td>42</td>\n",
       "      <td>1</td>\n",
       "      <td>3</td>\n",
       "      <td>6</td>\n",
       "      <td>2</td>\n",
       "      <td>2</td>\n",
       "      <td>2</td>\n",
       "      <td>3</td>\n",
       "      <td>1</td>\n",
       "      <td>3</td>\n",
       "      <td>0</td>\n",
       "      <td>2</td>\n",
       "      <td>0</td>\n",
       "      <td>3</td>\n",
       "      <td>1</td>\n",
       "      <td>0</td>\n",
       "      <td>2</td>\n",
       "      <td>-0.695990</td>\n",
       "      <td>0</td>\n",
       "    </tr>\n",
       "    <tr>\n",
       "      <th>3</th>\n",
       "      <td>6</td>\n",
       "      <td>32</td>\n",
       "      <td>1</td>\n",
       "      <td>1</td>\n",
       "      <td>29</td>\n",
       "      <td>3</td>\n",
       "      <td>2</td>\n",
       "      <td>4</td>\n",
       "      <td>4</td>\n",
       "      <td>1</td>\n",
       "      <td>3</td>\n",
       "      <td>0</td>\n",
       "      <td>3</td>\n",
       "      <td>1</td>\n",
       "      <td>5</td>\n",
       "      <td>1</td>\n",
       "      <td>1</td>\n",
       "      <td>2</td>\n",
       "      <td>0.368972</td>\n",
       "      <td>1</td>\n",
       "    </tr>\n",
       "    <tr>\n",
       "      <th>4</th>\n",
       "      <td>7</td>\n",
       "      <td>43</td>\n",
       "      <td>0</td>\n",
       "      <td>3</td>\n",
       "      <td>8</td>\n",
       "      <td>2</td>\n",
       "      <td>2</td>\n",
       "      <td>3</td>\n",
       "      <td>3</td>\n",
       "      <td>1</td>\n",
       "      <td>3</td>\n",
       "      <td>1</td>\n",
       "      <td>2</td>\n",
       "      <td>0</td>\n",
       "      <td>3</td>\n",
       "      <td>1</td>\n",
       "      <td>2</td>\n",
       "      <td>2</td>\n",
       "      <td>-0.530759</td>\n",
       "      <td>0</td>\n",
       "    </tr>\n",
       "    <tr>\n",
       "      <th>...</th>\n",
       "      <td>...</td>\n",
       "      <td>...</td>\n",
       "      <td>...</td>\n",
       "      <td>...</td>\n",
       "      <td>...</td>\n",
       "      <td>...</td>\n",
       "      <td>...</td>\n",
       "      <td>...</td>\n",
       "      <td>...</td>\n",
       "      <td>...</td>\n",
       "      <td>...</td>\n",
       "      <td>...</td>\n",
       "      <td>...</td>\n",
       "      <td>...</td>\n",
       "      <td>...</td>\n",
       "      <td>...</td>\n",
       "      <td>...</td>\n",
       "      <td>...</td>\n",
       "      <td>...</td>\n",
       "      <td>...</td>\n",
       "    </tr>\n",
       "    <tr>\n",
       "      <th>1644</th>\n",
       "      <td>1951</td>\n",
       "      <td>28</td>\n",
       "      <td>1</td>\n",
       "      <td>1</td>\n",
       "      <td>10</td>\n",
       "      <td>3</td>\n",
       "      <td>2</td>\n",
       "      <td>3</td>\n",
       "      <td>5</td>\n",
       "      <td>0</td>\n",
       "      <td>3</td>\n",
       "      <td>2</td>\n",
       "      <td>2</td>\n",
       "      <td>0</td>\n",
       "      <td>1</td>\n",
       "      <td>1</td>\n",
       "      <td>2</td>\n",
       "      <td>1</td>\n",
       "      <td>-0.520432</td>\n",
       "      <td>0</td>\n",
       "    </tr>\n",
       "    <tr>\n",
       "      <th>1645</th>\n",
       "      <td>1952</td>\n",
       "      <td>41</td>\n",
       "      <td>1</td>\n",
       "      <td>3</td>\n",
       "      <td>8</td>\n",
       "      <td>2</td>\n",
       "      <td>1</td>\n",
       "      <td>3</td>\n",
       "      <td>3</td>\n",
       "      <td>4</td>\n",
       "      <td>5</td>\n",
       "      <td>0</td>\n",
       "      <td>1</td>\n",
       "      <td>0</td>\n",
       "      <td>5</td>\n",
       "      <td>1</td>\n",
       "      <td>1</td>\n",
       "      <td>0</td>\n",
       "      <td>1.818612</td>\n",
       "      <td>0</td>\n",
       "    </tr>\n",
       "    <tr>\n",
       "      <th>1646</th>\n",
       "      <td>1953</td>\n",
       "      <td>38</td>\n",
       "      <td>0</td>\n",
       "      <td>3</td>\n",
       "      <td>28</td>\n",
       "      <td>3</td>\n",
       "      <td>1</td>\n",
       "      <td>3</td>\n",
       "      <td>4</td>\n",
       "      <td>0</td>\n",
       "      <td>3</td>\n",
       "      <td>0</td>\n",
       "      <td>7</td>\n",
       "      <td>0</td>\n",
       "      <td>2</td>\n",
       "      <td>1</td>\n",
       "      <td>2</td>\n",
       "      <td>1</td>\n",
       "      <td>-0.320779</td>\n",
       "      <td>0</td>\n",
       "    </tr>\n",
       "    <tr>\n",
       "      <th>1647</th>\n",
       "      <td>1954</td>\n",
       "      <td>28</td>\n",
       "      <td>1</td>\n",
       "      <td>3</td>\n",
       "      <td>30</td>\n",
       "      <td>3</td>\n",
       "      <td>1</td>\n",
       "      <td>3</td>\n",
       "      <td>5</td>\n",
       "      <td>1</td>\n",
       "      <td>3</td>\n",
       "      <td>1</td>\n",
       "      <td>3</td>\n",
       "      <td>0</td>\n",
       "      <td>1</td>\n",
       "      <td>1</td>\n",
       "      <td>2</td>\n",
       "      <td>2</td>\n",
       "      <td>-0.198792</td>\n",
       "      <td>0</td>\n",
       "    </tr>\n",
       "    <tr>\n",
       "      <th>1648</th>\n",
       "      <td>1955</td>\n",
       "      <td>22</td>\n",
       "      <td>0</td>\n",
       "      <td>1</td>\n",
       "      <td>9</td>\n",
       "      <td>2</td>\n",
       "      <td>2</td>\n",
       "      <td>2</td>\n",
       "      <td>4</td>\n",
       "      <td>0</td>\n",
       "      <td>3</td>\n",
       "      <td>0</td>\n",
       "      <td>1</td>\n",
       "      <td>1</td>\n",
       "      <td>3</td>\n",
       "      <td>0</td>\n",
       "      <td>0</td>\n",
       "      <td>1</td>\n",
       "      <td>-1.137895</td>\n",
       "      <td>1</td>\n",
       "    </tr>\n",
       "  </tbody>\n",
       "</table>\n",
       "<p>1649 rows × 20 columns</p>\n",
       "</div>"
      ],
      "text/plain": [
       "        id  Age  TypeofContact  CityTier  DurationOfPitch  Occupation  Gender  \\\n",
       "0        1   28              0         1               10           3       2   \n",
       "1        4   29              0         1                7           3       2   \n",
       "2        5   42              1         3                6           2       2   \n",
       "3        6   32              1         1               29           3       2   \n",
       "4        7   43              0         3                8           2       2   \n",
       "...    ...  ...            ...       ...              ...         ...     ...   \n",
       "1644  1951   28              1         1               10           3       2   \n",
       "1645  1952   41              1         3                8           2       1   \n",
       "1646  1953   38              0         3               28           3       1   \n",
       "1647  1954   28              1         3               30           3       1   \n",
       "1648  1955   22              0         1                9           2       2   \n",
       "\n",
       "      NumberOfPersonVisiting  NumberOfFollowups  ProductPitched  \\\n",
       "0                          3                  4               0   \n",
       "1                          3                  5               0   \n",
       "2                          2                  3               1   \n",
       "3                          4                  4               1   \n",
       "4                          3                  3               1   \n",
       "...                      ...                ...             ...   \n",
       "1644                       3                  5               0   \n",
       "1645                       3                  3               4   \n",
       "1646                       3                  4               0   \n",
       "1647                       3                  5               1   \n",
       "1648                       2                  4               0   \n",
       "\n",
       "      PreferredPropertyStar  MaritalStatus  NumberOfTrips  Passport  \\\n",
       "0                         3              1              3         0   \n",
       "1                         4              1              3         0   \n",
       "2                         3              0              2         0   \n",
       "3                         3              0              3         1   \n",
       "4                         3              1              2         0   \n",
       "...                     ...            ...            ...       ...   \n",
       "1644                      3              2              2         0   \n",
       "1645                      5              0              1         0   \n",
       "1646                      3              0              7         0   \n",
       "1647                      3              1              3         0   \n",
       "1648                      3              0              1         1   \n",
       "\n",
       "      PitchSatisfactionScore  OwnCar  NumberOfChildrenVisiting  Designation  \\\n",
       "0                          1       0                         1            1   \n",
       "1                          4       0                         1            1   \n",
       "2                          3       1                         0            2   \n",
       "3                          5       1                         1            2   \n",
       "4                          3       1                         2            2   \n",
       "...                      ...     ...                       ...          ...   \n",
       "1644                       1       1                         2            1   \n",
       "1645                       5       1                         1            0   \n",
       "1646                       2       1                         2            1   \n",
       "1647                       1       1                         2            2   \n",
       "1648                       3       0                         0            1   \n",
       "\n",
       "      MonthlyIncome  ProdTaken  \n",
       "0         -0.593366          0  \n",
       "1         -0.401888          1  \n",
       "2         -0.695990          0  \n",
       "3          0.368972          1  \n",
       "4         -0.530759          0  \n",
       "...             ...        ...  \n",
       "1644      -0.520432          0  \n",
       "1645       1.818612          0  \n",
       "1646      -0.320779          0  \n",
       "1647      -0.198792          0  \n",
       "1648      -1.137895          1  \n",
       "\n",
       "[1649 rows x 20 columns]"
      ]
     },
     "execution_count": 42,
     "metadata": {},
     "output_type": "execute_result"
    }
   ],
   "source": [
    "train_data2"
   ]
  },
  {
   "cell_type": "code",
   "execution_count": 49,
   "id": "58177af7",
   "metadata": {
    "ExecuteTime": {
     "end_time": "2022-08-14T08:26:25.248414Z",
     "start_time": "2022-08-14T08:26:25.237871Z"
    }
   },
   "outputs": [],
   "source": [
    "train_input = train_data2.drop(columns=['id','ProdTaken'])"
   ]
  },
  {
   "cell_type": "code",
   "execution_count": 50,
   "id": "c044b831",
   "metadata": {
    "ExecuteTime": {
     "end_time": "2022-08-14T08:26:27.803828Z",
     "start_time": "2022-08-14T08:26:27.772558Z"
    }
   },
   "outputs": [
    {
     "data": {
      "text/html": [
       "<div>\n",
       "<style scoped>\n",
       "    .dataframe tbody tr th:only-of-type {\n",
       "        vertical-align: middle;\n",
       "    }\n",
       "\n",
       "    .dataframe tbody tr th {\n",
       "        vertical-align: top;\n",
       "    }\n",
       "\n",
       "    .dataframe thead th {\n",
       "        text-align: right;\n",
       "    }\n",
       "</style>\n",
       "<table border=\"1\" class=\"dataframe\">\n",
       "  <thead>\n",
       "    <tr style=\"text-align: right;\">\n",
       "      <th></th>\n",
       "      <th>Age</th>\n",
       "      <th>TypeofContact</th>\n",
       "      <th>CityTier</th>\n",
       "      <th>DurationOfPitch</th>\n",
       "      <th>Occupation</th>\n",
       "      <th>Gender</th>\n",
       "      <th>NumberOfPersonVisiting</th>\n",
       "      <th>NumberOfFollowups</th>\n",
       "      <th>ProductPitched</th>\n",
       "      <th>PreferredPropertyStar</th>\n",
       "      <th>MaritalStatus</th>\n",
       "      <th>NumberOfTrips</th>\n",
       "      <th>Passport</th>\n",
       "      <th>PitchSatisfactionScore</th>\n",
       "      <th>OwnCar</th>\n",
       "      <th>NumberOfChildrenVisiting</th>\n",
       "      <th>Designation</th>\n",
       "      <th>MonthlyIncome</th>\n",
       "    </tr>\n",
       "  </thead>\n",
       "  <tbody>\n",
       "    <tr>\n",
       "      <th>0</th>\n",
       "      <td>28</td>\n",
       "      <td>0</td>\n",
       "      <td>1</td>\n",
       "      <td>10</td>\n",
       "      <td>3</td>\n",
       "      <td>2</td>\n",
       "      <td>3</td>\n",
       "      <td>4</td>\n",
       "      <td>0</td>\n",
       "      <td>3</td>\n",
       "      <td>1</td>\n",
       "      <td>3</td>\n",
       "      <td>0</td>\n",
       "      <td>1</td>\n",
       "      <td>0</td>\n",
       "      <td>1</td>\n",
       "      <td>1</td>\n",
       "      <td>-0.593366</td>\n",
       "    </tr>\n",
       "    <tr>\n",
       "      <th>1</th>\n",
       "      <td>29</td>\n",
       "      <td>0</td>\n",
       "      <td>1</td>\n",
       "      <td>7</td>\n",
       "      <td>3</td>\n",
       "      <td>2</td>\n",
       "      <td>3</td>\n",
       "      <td>5</td>\n",
       "      <td>0</td>\n",
       "      <td>4</td>\n",
       "      <td>1</td>\n",
       "      <td>3</td>\n",
       "      <td>0</td>\n",
       "      <td>4</td>\n",
       "      <td>0</td>\n",
       "      <td>1</td>\n",
       "      <td>1</td>\n",
       "      <td>-0.401888</td>\n",
       "    </tr>\n",
       "    <tr>\n",
       "      <th>2</th>\n",
       "      <td>42</td>\n",
       "      <td>1</td>\n",
       "      <td>3</td>\n",
       "      <td>6</td>\n",
       "      <td>2</td>\n",
       "      <td>2</td>\n",
       "      <td>2</td>\n",
       "      <td>3</td>\n",
       "      <td>1</td>\n",
       "      <td>3</td>\n",
       "      <td>0</td>\n",
       "      <td>2</td>\n",
       "      <td>0</td>\n",
       "      <td>3</td>\n",
       "      <td>1</td>\n",
       "      <td>0</td>\n",
       "      <td>2</td>\n",
       "      <td>-0.695990</td>\n",
       "    </tr>\n",
       "    <tr>\n",
       "      <th>3</th>\n",
       "      <td>32</td>\n",
       "      <td>1</td>\n",
       "      <td>1</td>\n",
       "      <td>29</td>\n",
       "      <td>3</td>\n",
       "      <td>2</td>\n",
       "      <td>4</td>\n",
       "      <td>4</td>\n",
       "      <td>1</td>\n",
       "      <td>3</td>\n",
       "      <td>0</td>\n",
       "      <td>3</td>\n",
       "      <td>1</td>\n",
       "      <td>5</td>\n",
       "      <td>1</td>\n",
       "      <td>1</td>\n",
       "      <td>2</td>\n",
       "      <td>0.368972</td>\n",
       "    </tr>\n",
       "    <tr>\n",
       "      <th>4</th>\n",
       "      <td>43</td>\n",
       "      <td>0</td>\n",
       "      <td>3</td>\n",
       "      <td>8</td>\n",
       "      <td>2</td>\n",
       "      <td>2</td>\n",
       "      <td>3</td>\n",
       "      <td>3</td>\n",
       "      <td>1</td>\n",
       "      <td>3</td>\n",
       "      <td>1</td>\n",
       "      <td>2</td>\n",
       "      <td>0</td>\n",
       "      <td>3</td>\n",
       "      <td>1</td>\n",
       "      <td>2</td>\n",
       "      <td>2</td>\n",
       "      <td>-0.530759</td>\n",
       "    </tr>\n",
       "    <tr>\n",
       "      <th>...</th>\n",
       "      <td>...</td>\n",
       "      <td>...</td>\n",
       "      <td>...</td>\n",
       "      <td>...</td>\n",
       "      <td>...</td>\n",
       "      <td>...</td>\n",
       "      <td>...</td>\n",
       "      <td>...</td>\n",
       "      <td>...</td>\n",
       "      <td>...</td>\n",
       "      <td>...</td>\n",
       "      <td>...</td>\n",
       "      <td>...</td>\n",
       "      <td>...</td>\n",
       "      <td>...</td>\n",
       "      <td>...</td>\n",
       "      <td>...</td>\n",
       "      <td>...</td>\n",
       "    </tr>\n",
       "    <tr>\n",
       "      <th>1644</th>\n",
       "      <td>28</td>\n",
       "      <td>1</td>\n",
       "      <td>1</td>\n",
       "      <td>10</td>\n",
       "      <td>3</td>\n",
       "      <td>2</td>\n",
       "      <td>3</td>\n",
       "      <td>5</td>\n",
       "      <td>0</td>\n",
       "      <td>3</td>\n",
       "      <td>2</td>\n",
       "      <td>2</td>\n",
       "      <td>0</td>\n",
       "      <td>1</td>\n",
       "      <td>1</td>\n",
       "      <td>2</td>\n",
       "      <td>1</td>\n",
       "      <td>-0.520432</td>\n",
       "    </tr>\n",
       "    <tr>\n",
       "      <th>1645</th>\n",
       "      <td>41</td>\n",
       "      <td>1</td>\n",
       "      <td>3</td>\n",
       "      <td>8</td>\n",
       "      <td>2</td>\n",
       "      <td>1</td>\n",
       "      <td>3</td>\n",
       "      <td>3</td>\n",
       "      <td>4</td>\n",
       "      <td>5</td>\n",
       "      <td>0</td>\n",
       "      <td>1</td>\n",
       "      <td>0</td>\n",
       "      <td>5</td>\n",
       "      <td>1</td>\n",
       "      <td>1</td>\n",
       "      <td>0</td>\n",
       "      <td>1.818612</td>\n",
       "    </tr>\n",
       "    <tr>\n",
       "      <th>1646</th>\n",
       "      <td>38</td>\n",
       "      <td>0</td>\n",
       "      <td>3</td>\n",
       "      <td>28</td>\n",
       "      <td>3</td>\n",
       "      <td>1</td>\n",
       "      <td>3</td>\n",
       "      <td>4</td>\n",
       "      <td>0</td>\n",
       "      <td>3</td>\n",
       "      <td>0</td>\n",
       "      <td>7</td>\n",
       "      <td>0</td>\n",
       "      <td>2</td>\n",
       "      <td>1</td>\n",
       "      <td>2</td>\n",
       "      <td>1</td>\n",
       "      <td>-0.320779</td>\n",
       "    </tr>\n",
       "    <tr>\n",
       "      <th>1647</th>\n",
       "      <td>28</td>\n",
       "      <td>1</td>\n",
       "      <td>3</td>\n",
       "      <td>30</td>\n",
       "      <td>3</td>\n",
       "      <td>1</td>\n",
       "      <td>3</td>\n",
       "      <td>5</td>\n",
       "      <td>1</td>\n",
       "      <td>3</td>\n",
       "      <td>1</td>\n",
       "      <td>3</td>\n",
       "      <td>0</td>\n",
       "      <td>1</td>\n",
       "      <td>1</td>\n",
       "      <td>2</td>\n",
       "      <td>2</td>\n",
       "      <td>-0.198792</td>\n",
       "    </tr>\n",
       "    <tr>\n",
       "      <th>1648</th>\n",
       "      <td>22</td>\n",
       "      <td>0</td>\n",
       "      <td>1</td>\n",
       "      <td>9</td>\n",
       "      <td>2</td>\n",
       "      <td>2</td>\n",
       "      <td>2</td>\n",
       "      <td>4</td>\n",
       "      <td>0</td>\n",
       "      <td>3</td>\n",
       "      <td>0</td>\n",
       "      <td>1</td>\n",
       "      <td>1</td>\n",
       "      <td>3</td>\n",
       "      <td>0</td>\n",
       "      <td>0</td>\n",
       "      <td>1</td>\n",
       "      <td>-1.137895</td>\n",
       "    </tr>\n",
       "  </tbody>\n",
       "</table>\n",
       "<p>1649 rows × 18 columns</p>\n",
       "</div>"
      ],
      "text/plain": [
       "      Age  TypeofContact  CityTier  DurationOfPitch  Occupation  Gender  \\\n",
       "0      28              0         1               10           3       2   \n",
       "1      29              0         1                7           3       2   \n",
       "2      42              1         3                6           2       2   \n",
       "3      32              1         1               29           3       2   \n",
       "4      43              0         3                8           2       2   \n",
       "...   ...            ...       ...              ...         ...     ...   \n",
       "1644   28              1         1               10           3       2   \n",
       "1645   41              1         3                8           2       1   \n",
       "1646   38              0         3               28           3       1   \n",
       "1647   28              1         3               30           3       1   \n",
       "1648   22              0         1                9           2       2   \n",
       "\n",
       "      NumberOfPersonVisiting  NumberOfFollowups  ProductPitched  \\\n",
       "0                          3                  4               0   \n",
       "1                          3                  5               0   \n",
       "2                          2                  3               1   \n",
       "3                          4                  4               1   \n",
       "4                          3                  3               1   \n",
       "...                      ...                ...             ...   \n",
       "1644                       3                  5               0   \n",
       "1645                       3                  3               4   \n",
       "1646                       3                  4               0   \n",
       "1647                       3                  5               1   \n",
       "1648                       2                  4               0   \n",
       "\n",
       "      PreferredPropertyStar  MaritalStatus  NumberOfTrips  Passport  \\\n",
       "0                         3              1              3         0   \n",
       "1                         4              1              3         0   \n",
       "2                         3              0              2         0   \n",
       "3                         3              0              3         1   \n",
       "4                         3              1              2         0   \n",
       "...                     ...            ...            ...       ...   \n",
       "1644                      3              2              2         0   \n",
       "1645                      5              0              1         0   \n",
       "1646                      3              0              7         0   \n",
       "1647                      3              1              3         0   \n",
       "1648                      3              0              1         1   \n",
       "\n",
       "      PitchSatisfactionScore  OwnCar  NumberOfChildrenVisiting  Designation  \\\n",
       "0                          1       0                         1            1   \n",
       "1                          4       0                         1            1   \n",
       "2                          3       1                         0            2   \n",
       "3                          5       1                         1            2   \n",
       "4                          3       1                         2            2   \n",
       "...                      ...     ...                       ...          ...   \n",
       "1644                       1       1                         2            1   \n",
       "1645                       5       1                         1            0   \n",
       "1646                       2       1                         2            1   \n",
       "1647                       1       1                         2            2   \n",
       "1648                       3       0                         0            1   \n",
       "\n",
       "      MonthlyIncome  \n",
       "0         -0.593366  \n",
       "1         -0.401888  \n",
       "2         -0.695990  \n",
       "3          0.368972  \n",
       "4         -0.530759  \n",
       "...             ...  \n",
       "1644      -0.520432  \n",
       "1645       1.818612  \n",
       "1646      -0.320779  \n",
       "1647      -0.198792  \n",
       "1648      -1.137895  \n",
       "\n",
       "[1649 rows x 18 columns]"
      ]
     },
     "execution_count": 50,
     "metadata": {},
     "output_type": "execute_result"
    }
   ],
   "source": [
    "train_input"
   ]
  },
  {
   "cell_type": "code",
   "execution_count": 47,
   "id": "a758b9d9",
   "metadata": {
    "ExecuteTime": {
     "end_time": "2022-08-14T08:25:39.328957Z",
     "start_time": "2022-08-14T08:25:39.322505Z"
    }
   },
   "outputs": [],
   "source": [
    "train_target = train_data2['ProdTaken']"
   ]
  },
  {
   "cell_type": "code",
   "execution_count": 48,
   "id": "8fb012af",
   "metadata": {
    "ExecuteTime": {
     "end_time": "2022-08-14T08:25:44.327686Z",
     "start_time": "2022-08-14T08:25:44.305574Z"
    }
   },
   "outputs": [
    {
     "data": {
      "text/plain": [
       "0       0\n",
       "1       1\n",
       "2       0\n",
       "3       1\n",
       "4       0\n",
       "       ..\n",
       "1644    0\n",
       "1645    0\n",
       "1646    0\n",
       "1647    0\n",
       "1648    1\n",
       "Name: ProdTaken, Length: 1649, dtype: int64"
      ]
     },
     "execution_count": 48,
     "metadata": {},
     "output_type": "execute_result"
    }
   ],
   "source": [
    "train_target"
   ]
  },
  {
   "cell_type": "code",
   "execution_count": null,
   "id": "7a0514e2",
   "metadata": {
    "ExecuteTime": {
     "start_time": "2022-08-14T08:26:51.567Z"
    }
   },
   "outputs": [],
   "source": [
    "import time\n",
    "from sklearn.ensemble import RandomForestRegressor\n",
    "from sklearn.model_selection import GridSearchCV\n",
    "start = time.time() # 시작 시간 저장\n",
    "\n",
    "# 랜덤 포레스트의 parameter 범위를 정의한다.\n",
    "RF_params = {\n",
    "    'n_estimators' : [50,100,150,200,300,500,1000],\n",
    "    'max_features' : ['auto','sqrt'],\n",
    "    'max_depth' : [8,10,12,14,16],\n",
    "    'min_samples_leaf' : [1,2,4,8],\n",
    "    'min_samples_split' : [2,3,5,10]}\n",
    "\n",
    "# GridSearchCV를 이용하여 dict에Randomforest 모델을 저장한다. \n",
    "RF_models = {\n",
    "    'RF': GridSearchCV(\n",
    "    RandomForestRegressor(random_state=42), param_grid=RF_params, n_jobs=-1\n",
    "    ).fit(train_input, train_target).best_estimator_}\n",
    "\n",
    "print(f'걸린시간 : {np.round(time.time()-start, 3)}초') # 현재시간 - 시작시간(단위 초)"
   ]
  },
  {
   "cell_type": "code",
   "execution_count": null,
   "id": "81b67257",
   "metadata": {},
   "outputs": [],
   "source": []
  }
 ],
 "metadata": {
  "kernelspec": {
   "display_name": "Python 3 (ipykernel)",
   "language": "python",
   "name": "python3"
  },
  "language_info": {
   "codemirror_mode": {
    "name": "ipython",
    "version": 3
   },
   "file_extension": ".py",
   "mimetype": "text/x-python",
   "name": "python",
   "nbconvert_exporter": "python",
   "pygments_lexer": "ipython3",
   "version": "3.9.7"
  },
  "toc": {
   "base_numbering": 1,
   "nav_menu": {},
   "number_sections": true,
   "sideBar": true,
   "skip_h1_title": false,
   "title_cell": "Table of Contents",
   "title_sidebar": "Contents",
   "toc_cell": false,
   "toc_position": {},
   "toc_section_display": true,
   "toc_window_display": false
  },
  "varInspector": {
   "cols": {
    "lenName": 16,
    "lenType": 16,
    "lenVar": 40
   },
   "kernels_config": {
    "python": {
     "delete_cmd_postfix": "",
     "delete_cmd_prefix": "del ",
     "library": "var_list.py",
     "varRefreshCmd": "print(var_dic_list())"
    },
    "r": {
     "delete_cmd_postfix": ") ",
     "delete_cmd_prefix": "rm(",
     "library": "var_list.r",
     "varRefreshCmd": "cat(var_dic_list()) "
    }
   },
   "types_to_exclude": [
    "module",
    "function",
    "builtin_function_or_method",
    "instance",
    "_Feature"
   ],
   "window_display": false
  }
 },
 "nbformat": 4,
 "nbformat_minor": 5
}
